{
 "cells": [
  {
   "cell_type": "markdown",
   "id": "67859686-ca27-42d4-a52f-42020cf1399d",
   "metadata": {},
   "source": [
    "# 2023 데이터 크리에이터 캠프"
   ]
  },
  {
   "cell_type": "markdown",
   "id": "565225c7-336e-4a87-b697-69010a0c6fa4",
   "metadata": {},
   "source": [
    "## 전역 변수 설정"
   ]
  },
  {
   "cell_type": "code",
   "execution_count": null,
   "id": "1c6499be-4215-413b-b052-1607d8c81a7b",
   "metadata": {},
   "outputs": [],
   "source": [
    "datasetDir = os.path.join('D:\\\\', '2023dcc')\n",
    "#datasetDir = '/root/dataset'"
   ]
  },
  {
   "cell_type": "markdown",
   "id": "b8665a56-0611-4f0c-a941-0dca0a719052",
   "metadata": {},
   "source": [
    "## MISSION 1. AI-Hub 에서 데이터셋 다운로드 및 학습데이터와 테스트 데이터셋 만들기"
   ]
  },
  {
   "cell_type": "markdown",
   "id": "4e5a75b2-470a-4855-aacf-f6db2bab8201",
   "metadata": {},
   "source": [
    "### 1-1. 첨부된 그림의 경로에서 TS7, TS8.ZIP는 Training VS2.ZIP는 Test 데이터셋으로 압축을 풀어 이미지 폴더를 만든다.\n",
    "### Training 과 Test 데이터의 이미지 수는 각각 얼마인가?"
   ]
  },
  {
   "cell_type": "code",
   "execution_count": null,
   "id": "5b633202-403d-47bc-b705-d1a5b4a66882",
   "metadata": {},
   "outputs": [],
   "source": [
    "import zipfile\n",
    "import os\n",
    "from concurrent.futures import ThreadPoolExecutor\n",
    "\n",
    "train_zip1_path = 'TS7.zip'\n",
    "train_zip2_path = 'TS8.zip'\n",
    "test_zip_path = 'VS2.zip'\n",
    "train_folder = 'train'\n",
    "test_folder = 'test'\n",
    "\n",
    "if not os.path.exists(train_folder):\n",
    "    os.makedirs(train_folder)\n",
    "\n",
    "if not os.path.exists(test_folder):\n",
    "    os.makedirs(test_folder)\n",
    "\n",
    "def extract_zip(zip_path, target_folder): # 압축을 해제하는 함수\n",
    "    with zipfile.ZipFile(zip_path, 'r') as zip_ref:\n",
    "        zip_ref.extractall(target_folder)\n",
    "\n",
    "with ThreadPoolExecutor(max_workers=3) as executor: # 쓰레딩으로 동시 압축 해제\n",
    "    executor.submit(extract_zip, train_zip1_path, train_folder)\n",
    "    executor.submit(extract_zip, train_zip2_path, train_folder)\n",
    "    executor.submit(extract_zip, test_zip_path, test_folder)"
   ]
  },
  {
   "cell_type": "code",
   "execution_count": null,
   "id": "469d9f84-1818-4b0c-80b2-adcc4356182a",
   "metadata": {},
   "outputs": [],
   "source": [
    "import os\n",
    "\n",
    "dataPaths = ['train', 'test']\n",
    "\n",
    "for dataPath in dataPaths:\n",
    "    folder_path = os.path.join(datasetDir, dataPath)\n",
    "    image_extensions = ['.jpg', '.png', '.jpeg']\n",
    "    \n",
    "    image_count = 0\n",
    "    \n",
    "    for _, _, files in os.walk(folder_path):\n",
    "        for file in files:\n",
    "            if any(file.lower().endswith(ext) for ext in image_extensions):\n",
    "                image_count += 1\n",
    "    \n",
    "    print(f\"{folder_path} 폴더에 {image_count}개의 이미지가 있음.\")"
   ]
  },
  {
   "cell_type": "raw",
   "id": "f7ff9ba3-f358-477a-881f-aaa05c13730f",
   "metadata": {},
   "source": [
    "Output:\n",
    "D:\\2023dcc\\train 폴더에 129600개의 이미지가 있음.\n",
    "D:\\2023dcc\\test 폴더에 16200개의 이미지가 있음."
   ]
  },
  {
   "cell_type": "markdown",
   "id": "99c2f8fd-043a-495b-85e2-d6a0f1b4f4b3",
   "metadata": {},
   "source": [
    "### 1-2. 이미지 이름에서 마지막 두자리가 01 : 마스크 미착용 02 : 마스크 부분 착용 03 : 마스크 착용을 의미한다.\n",
    "### Training, Test에 각각 몇 개가 있는가?"
   ]
  },
  {
   "cell_type": "code",
   "execution_count": null,
   "id": "12321833-c522-45cf-a255-01e25766f114",
   "metadata": {},
   "outputs": [],
   "source": [
    "import os\n",
    "\n",
    "valid_suffixes = ['01', '02', '03']\n",
    "\n",
    "image_extensions = ['.jpg', '.jpeg', '.png']\n",
    "\n",
    "dataPaths = ['train', 'test']\n",
    "\n",
    "image_counts = {suffix: 0 for suffix in valid_suffixes} # 라벨이 키인 딕셔너리를 정의\n",
    "\n",
    "for dataPath in dataPaths:\n",
    "    folder_path = os.path.join(datasetDir, dataPath)\n",
    "    for _, _, files in os.walk(folder_path):\n",
    "        for file in files:\n",
    "            if any(file.lower().endswith(ext) for ext in image_extensions):\n",
    "                try: # 파일 이름에서 라벨을 불러와 딕셔너리에 카운트\n",
    "                    index = file.lower().split('.')[0].split('_')[-1]\n",
    "                    image_counts[index] += 1\n",
    "                except: # 실패 시 파일명 반환\n",
    "                    print(file)\n",
    "                    exit(1)\n",
    "            \n",
    "for suffix, count in image_counts.items():\n",
    "    print(f\"'{suffix}'로 끝나는 파일은 {count}개 있음.\")"
   ]
  },
  {
   "cell_type": "raw",
   "id": "9a4159ae-bea4-4af5-8bba-a7a99f590bec",
   "metadata": {},
   "source": [
    "Output:\n",
    "'01'로 끝나는 파일은 48600개 있음.\n",
    "'02'로 끝나는 파일은 48600개 있음.\n",
    "'03'로 끝나는 파일은 48600개 있음."
   ]
  },
  {
   "cell_type": "markdown",
   "id": "d010ee7d-ea75-4e0b-aa9a-95252ac46bdc",
   "metadata": {},
   "source": [
    "## MISSION 2. 이미지 데이터 축소하기"
   ]
  },
  {
   "cell_type": "markdown",
   "id": "8ca58cc9-e497-4808-ad30-5ac70fa96276",
   "metadata": {},
   "source": [
    "### 2-1. 사진 크기가 너무 크기 때문에 사진을 축소해야 Colab에서 학습할 수 있을 것이다. \n",
    "### 어떤 크기로 이미지를 축소해야 하는지 결정하고, 실제 축소된 이미지 폴더를 만드시오."
   ]
  },
  {
   "cell_type": "code",
   "execution_count": null,
   "id": "c9a59843-724e-4ef5-8031-7901883eb9e7",
   "metadata": {},
   "outputs": [],
   "source": [
    "import os\n",
    "import cv2\n",
    "\n",
    "train_image_folder = 'train'\n",
    "test_image_folder = 'test'\n",
    "\n",
    "train_resized_folder = 'train_resize'\n",
    "test_resized_folder = 'test_resize'\n",
    "\n",
    "image_extensions = ['.jpg', '.png', '.jpeg']\n",
    "\n",
    "target_size = (256, 256) # 이미지 사이즈\n",
    "\n",
    "if not os.path.exists(train_resized_folder):\n",
    "    os.makedirs(train_resized_folder)\n",
    "\n",
    "if not os.path.exists(test_resized_folder):\n",
    "    os.makedirs(test_resized_folder)\n",
    "\n",
    "def resize_and_save_images(original_folder, resized_folder): # 원본 폴더에 있는 사진을 지정된 폴더에 리사이징하여 저장하는 함수\n",
    "    for root, dirs, files in os.walk(original_folder):\n",
    "        for filename in files:\n",
    "            if any(filename.lower().endswith(ext) for ext in image_extensions):\n",
    "                image_path = os.path.join(root, filename)\n",
    "                relative_path = os.path.relpath(image_path, original_folder)\n",
    "                output_path = os.path.join(resized_folder, relative_path) # 디렉토리 계산해서 저장 경로 지정\n",
    "                os.makedirs(os.path.dirname(output_path), exist_ok=True)\n",
    "                img = cv2.imread(image_path) # OpenCV로 이미지 읽어오기\n",
    "                img = cv2.resize(img, target_size, interpolation=cv2.INTER_AREA) # OpenCV로 이미지 리사이징\n",
    "                cv2.imwrite(output_path, img) # 이미지 저장\n",
    "\n",
    "resize_and_save_images(train_image_folder, train_resized_folder)\n",
    "resize_and_save_images(test_image_folder, test_resized_folder)"
   ]
  },
  {
   "cell_type": "code",
   "execution_count": null,
   "id": "7d000ae0-b6fe-4731-9782-62b5b79f7d7d",
   "metadata": {},
   "outputs": [],
   "source": [
    "import numpy as np\n",
    "from PIL import Image\n",
    "import os\n",
    "from tqdm import tqdm\n",
    "\n",
    "train_resized_folder = 'train_resize'\n",
    "test_resized_folder = 'test_resize'\n",
    "\n",
    "image_extensions = ['.jpg', '.png', '.jpeg']\n",
    "\n",
    "target_size = (256, 256)\n",
    "\n",
    "def load_images_with_labels_as_numpy_array(folder_path, target_size=(256, 256)): # 이미지를 읽어와서 넘파이 배열로 변환하는 함수\n",
    "    image_data = []\n",
    "    labels = []\n",
    "    \n",
    "    for root, dirs, files in os.walk(folder_path):\n",
    "        for filename in tqdm(files):\n",
    "            if any(filename.lower().endswith(ext) for ext in image_extensions):\n",
    "                image_path = os.path.join(root, filename)\n",
    "                img = Image.open(image_path)\n",
    "                img = img.resize(target_size)\n",
    "                img_array = np.array(img)\n",
    "                \n",
    "                index = filename.split('.')[0].split('_')[-1]\n",
    "                \n",
    "                image_data.append(img_array)\n",
    "                labels.append(int(index))\n",
    "    \n",
    "    return np.array(image_data), np.array(labels) # 이미지 데이터와 라벨 데이터를 각각의 넘파이 배열로 저장\n",
    "\n",
    "train_images, train_labels = load_images_with_labels_as_numpy_array(train_resized_folder)\n",
    "test_images, test_labels = load_images_with_labels_as_numpy_array(test_resized_folder)\n",
    "\n",
    "# 변환된 넘파이 배열을 각각의 npy 파일로 저장\n",
    "np.save('train_images.npy', train_images)\n",
    "np.save('train_labels.npy', train_labels)\n",
    "np.save('test_images.npy', test_images)\n",
    "np.save('test_labels.npy', test_labels)"
   ]
  },
  {
   "cell_type": "markdown",
   "id": "623f17a7-ad8d-4c92-b1b6-4f4703a24282",
   "metadata": {},
   "source": [
    "### 2-2. 이미지 파일을 Colab으로 옮기는 것은 여러가지로 어렵다. 두가지 방식을 사용할 수 있다. 적절한 방법을 택해서 수행하시오.\n",
    "\n",
    "(1) 로컬 컴퓨터에서 이미지를 넘파이 배열로 만들어 Colab으로 전송하는 방법 \n",
    "\n",
    "(2) 이미지를 하나의 압축파일로 만들어 Colab으로 전송하는 방법"
   ]
  },
  {
   "cell_type": "markdown",
   "id": "95b22fab-eb12-48dd-92b8-948b751d17a5",
   "metadata": {},
   "source": [
    "2-1에서 1번 방법을 사용하여, numpy 배열로 변환 후 파일로 저장."
   ]
  }
 ],
 "metadata": {
  "kernelspec": {
   "display_name": "Python 3 (ipykernel)",
   "language": "python",
   "name": "python3"
  },
  "language_info": {
   "codemirror_mode": {
    "name": "ipython",
    "version": 3
   },
   "file_extension": ".py",
   "mimetype": "text/x-python",
   "name": "python",
   "nbconvert_exporter": "python",
   "pygments_lexer": "ipython3",
   "version": "3.10.12"
  }
 },
 "nbformat": 4,
 "nbformat_minor": 5
}
