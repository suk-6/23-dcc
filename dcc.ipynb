{
 "cells": [
  {
   "cell_type": "markdown",
   "id": "67859686-ca27-42d4-a52f-42020cf1399d",
   "metadata": {},
   "source": [
    "# 2023 데이터 크리에이터 캠프"
   ]
  },
  {
   "cell_type": "markdown",
   "id": "b8665a56-0611-4f0c-a941-0dca0a719052",
   "metadata": {},
   "source": [
    "## MISSION 1. AI-Hub 에서 데이터셋 다운로드 및 학습데이터와 테스트 데이터셋 만들기"
   ]
  },
  {
   "cell_type": "markdown",
   "id": "4e5a75b2-470a-4855-aacf-f6db2bab8201",
   "metadata": {},
   "source": [
    "### 1-1. 첨부된 그림의 경로에서 TS7, TS8.ZIP는 Training VS2.ZIP는 Test 데이터셋으로 압축을 풀어 이미지 폴더를 만든다.\n",
    "### Training 과 Test 데이터의 이미지 수는 각각 얼마인가?"
   ]
  },
  {
   "cell_type": "code",
   "execution_count": null,
   "id": "5b633202-403d-47bc-b705-d1a5b4a66882",
   "metadata": {},
   "outputs": [],
   "source": [
    "import zipfile\n",
    "import os\n",
    "from concurrent.futures import ThreadPoolExecutor\n",
    "\n",
    "trainZIP1 = 'TS7.zip'\n",
    "trainZIP2 = 'TS8.zip'\n",
    "testZIP = 'VS2.zip'\n",
    "trainPath = 'train'\n",
    "testPath = 'test'\n",
    "\n",
    "if not os.path.exists(trainPath):\n",
    "    os.makedirs(trainPath)\n",
    "\n",
    "if not os.path.exists(testPath):\n",
    "    os.makedirs(testPath)\n",
    "\n",
    "def extract_zip(zipPath, targetPath): # 압축을 해제하는 함수\n",
    "    with zipfile.ZipFile(zipPath, 'r') as zip_ref:\n",
    "        zip_ref.extractall(targetPath)\n",
    "\n",
    "with ThreadPoolExecutor(max_workers=3) as executor: # 쓰레딩으로 동시 압축 해제\n",
    "    executor.submit(extract_zip, trainZIP1, trainPath)\n",
    "    executor.submit(extract_zip, trainZIP2, trainPath)\n",
    "    executor.submit(extract_zip, testZIP, testPath)"
   ]
  },
  {
   "cell_type": "code",
   "execution_count": null,
   "id": "469d9f84-1818-4b0c-80b2-adcc4356182a",
   "metadata": {},
   "outputs": [],
   "source": [
    "import os\n",
    "\n",
    "dataPaths = ['train', 'test']\n",
    "datasetPath = os.getcwd()\n",
    "\n",
    "for dataPath in dataPaths:\n",
    "    folderPath = os.path.join(datasetPath, dataPath)\n",
    "    imageExtensions = ['.jpg', '.png', '.jpeg']\n",
    "    \n",
    "    imageCount = 0\n",
    "    \n",
    "    for _, _, files in os.walk(folderPath):\n",
    "        for file in files:\n",
    "            if any(file.lower().endswith(ext) for ext in imageExtensions):\n",
    "                imageCount += 1\n",
    "    \n",
    "    print(f\"{folderPath} 폴더에 {imageCount}개의 이미지가 있음.\")"
   ]
  },
  {
   "cell_type": "markdown",
   "id": "f7ff9ba3-f358-477a-881f-aaa05c13730f",
   "metadata": {},
   "source": [
    "    Output:\n",
    "    D:\\2023dcc\\train 폴더에 129600개의 이미지가 있음.\n",
    "    D:\\2023dcc\\test 폴더에 16200개의 이미지가 있음."
   ]
  },
  {
   "cell_type": "markdown",
   "id": "99c2f8fd-043a-495b-85e2-d6a0f1b4f4b3",
   "metadata": {},
   "source": [
    "### 1-2. 이미지 이름에서 마지막 두자리가 01 : 마스크 미착용 02 : 마스크 부분 착용 03 : 마스크 착용을 의미한다.\n",
    "### Training, Test에 각각 몇 개가 있는가?"
   ]
  },
  {
   "cell_type": "code",
   "execution_count": null,
   "id": "12321833-c522-45cf-a255-01e25766f114",
   "metadata": {},
   "outputs": [],
   "source": [
    "import os\n",
    "\n",
    "suffixes = ['01', '02', '03']\n",
    "\n",
    "imageExtensions = ['.jpg', '.jpeg', '.png']\n",
    "\n",
    "dataPaths = ['train', 'test']\n",
    "datasetPath = os.getcwd()\n",
    "\n",
    "def countImage(dataPath):\n",
    "    path = os.path.join(datasetPath, dataPath)\n",
    "    imageCounts = {suffix: 0 for suffix in suffixes} # 라벨이 키인 딕셔너리를 정의\n",
    "    for _, _, files in os.walk(path):\n",
    "        for file in files:\n",
    "            if any(file.lower().endswith(ext) for ext in imageExtensions):\n",
    "                try: # 파일 이름에서 라벨을 불러와 딕셔너리에 카운트\n",
    "                    index = file.lower().split('.')[0].split('_')[-1]\n",
    "                    imageCounts[index] += 1\n",
    "                except: # 실패 시 파일명 반환\n",
    "                    print(file)\n",
    "                    exit(1)\n",
    "\n",
    "    for suffix, count in imageCounts.items():\n",
    "        print(f\"{dataPath}에서 '{suffix}'로 끝나는 파일은 {count}개 있음.\")\n",
    "\n",
    "for dataPath in dataPaths:\n",
    "    countImage(dataPath)"
   ]
  },
  {
   "cell_type": "markdown",
   "id": "9a4159ae-bea4-4af5-8bba-a7a99f590bec",
   "metadata": {},
   "source": [
    "    Output:\n",
    "    train에서 '01'로 끝나는 파일은 43200개 있음.\n",
    "    train에서 '02'로 끝나는 파일은 43200개 있음.\n",
    "    train에서 '03'로 끝나는 파일은 43200개 있음.\n",
    "    test에서 '01'로 끝나는 파일은 5400개 있음.\n",
    "    test에서 '02'로 끝나는 파일은 5400개 있음.\n",
    "    test에서 '03'로 끝나는 파일은 5400개 있음."
   ]
  },
  {
   "cell_type": "markdown",
   "id": "d010ee7d-ea75-4e0b-aa9a-95252ac46bdc",
   "metadata": {},
   "source": [
    "## MISSION 2. 이미지 데이터 축소하기"
   ]
  },
  {
   "cell_type": "markdown",
   "id": "8ca58cc9-e497-4808-ad30-5ac70fa96276",
   "metadata": {},
   "source": [
    "### 2-1. 사진 크기가 너무 크기 때문에 사진을 축소해야 Colab에서 학습할 수 있을 것이다. \n",
    "### 어떤 크기로 이미지를 축소해야 하는지 결정하고, 실제 축소된 이미지 폴더를 만드시오."
   ]
  },
  {
   "cell_type": "code",
   "execution_count": null,
   "id": "c9a59843-724e-4ef5-8031-7901883eb9e7",
   "metadata": {},
   "outputs": [],
   "source": [
    "import os\n",
    "import cv2\n",
    "\n",
    "trainImagePath = 'train'\n",
    "testImagePath = 'test'\n",
    "\n",
    "trainResizedPath = 'train_resize'\n",
    "testResizedPath = 'test_resize'\n",
    "\n",
    "imageExtensions = ['.jpg', '.png', '.jpeg']\n",
    "\n",
    "targetImageSize = (64, 64) # 이미지 사이즈\n",
    "\n",
    "if not os.path.exists(trainResizedPath):\n",
    "    os.makedirs(trainResizedPath)\n",
    "\n",
    "if not os.path.exists(testResizedPath):\n",
    "    os.makedirs(testResizedPath)\n",
    "\n",
    "def resize(originalPath, resizedPath): # 원본 폴더에 있는 사진을 지정된 폴더에 리사이징하여 저장하는 함수\n",
    "    for root, _, files in os.walk(originalPath):\n",
    "        for filename in files:\n",
    "            if any(filename.lower().endswith(ext) for ext in imageExtensions):\n",
    "                imagePath = os.path.join(root, filename)\n",
    "\n",
    "                relativePath = os.path.relpath(imagePath, originalPath)\n",
    "                outputPath = os.path.join(resizedPath, relativePath) # 디렉토리 계산해서 저장 경로 지정\n",
    "\n",
    "                os.makedirs(os.path.dirname(outputPath), exist_ok=True)\n",
    "                \n",
    "                img = cv2.imread(imagePath) # OpenCV로 이미지 읽어오기\n",
    "                img = cv2.resize(img, targetImageSize, interpolation=cv2.INTER_AREA) # OpenCV로 이미지 리사이징\n",
    "                cv2.imwrite(outputPath, img) # 이미지 저장\n",
    "\n",
    "resize(trainImagePath, trainResizedPath)\n",
    "resize(testImagePath, testResizedPath)"
   ]
  },
  {
   "cell_type": "code",
   "execution_count": null,
   "id": "7d000ae0-b6fe-4731-9782-62b5b79f7d7d",
   "metadata": {},
   "outputs": [],
   "source": [
    "import numpy as np\n",
    "from PIL import Image\n",
    "import os\n",
    "from tqdm import tqdm\n",
    "\n",
    "trainResizedPath = 'train_resize'\n",
    "testResizedPath = 'test_resize'\n",
    "\n",
    "imageExtensions = ['.jpg', '.png', '.jpeg']\n",
    "\n",
    "\n",
    "def datasetToNumpy(datasetPath, targetSize): # 이미지를 읽어와서 넘파이 배열로 변환하는 함수\n",
    "    imageData = []\n",
    "    labelData = []\n",
    "    \n",
    "    for root, _, files in os.walk(datasetPath):\n",
    "        for filename in tqdm(files):\n",
    "            if any(filename.lower().endswith(ext) for ext in imageExtensions):\n",
    "                imgPath = os.path.join(root, filename)\n",
    "                img = Image.open(imgPath)\n",
    "                img = img.resize(targetSize)\n",
    "                imgArray = np.array(img)\n",
    "                \n",
    "                index = filename.split('.')[0].split('_')[-1]\n",
    "                \n",
    "                imageData.append(imgArray)\n",
    "                labelData.append(int(index))\n",
    "    \n",
    "    return np.array(imageData), np.array(labelData) # 이미지 데이터와 라벨 데이터를 각각의 넘파이 배열로 저장\n",
    "\n",
    "# targetSize = (256, 256)\n",
    "targetSize = (64, 64)\n",
    "\n",
    "trainImages, trainLabels = datasetToNumpy(trainResizedPath, targetSize)\n",
    "testImages, testLabels = datasetToNumpy(testResizedPath, targetSize)\n",
    "\n",
    "# 변환된 넘파이 배열을 각각의 npy 파일로 저장\n",
    "np.save('train_images.npy', trainImages)\n",
    "np.save('train_labels.npy', trainLabels)\n",
    "np.save('test_images.npy', testImages)\n",
    "np.save('test_labels.npy', testLabels)"
   ]
  },
  {
   "cell_type": "markdown",
   "id": "623f17a7-ad8d-4c92-b1b6-4f4703a24282",
   "metadata": {},
   "source": [
    "### 2-2. 이미지 파일을 Colab으로 옮기는 것은 여러가지로 어렵다. 두가지 방식을 사용할 수 있다. 적절한 방법을 택해서 수행하시오.\n",
    "\n",
    "(1) 로컬 컴퓨터에서 이미지를 넘파이 배열로 만들어 Colab으로 전송하는 방법 \n",
    "\n",
    "(2) 이미지를 하나의 압축파일로 만들어 Colab으로 전송하는 방법"
   ]
  },
  {
   "cell_type": "markdown",
   "id": "95b22fab-eb12-48dd-92b8-948b751d17a5",
   "metadata": {},
   "source": [
    "2-1에서 1번 방법을 사용하여, numpy 배열로 변환 후 파일로 저장."
   ]
  },
  {
   "cell_type": "markdown",
   "id": "bdd355e4-36f2-46a7-b66a-5713d1e86b1e",
   "metadata": {},
   "source": [
    "## MISSION 3"
   ]
  },
  {
   "cell_type": "code",
   "execution_count": 1,
   "id": "0b0f5e06-9b69-478a-9463-62420fb5f360",
   "metadata": {},
   "outputs": [],
   "source": [
    "import numpy as np\n",
    "import torch\n",
    "import torch.nn as nn\n",
    "import torch.optim as optim\n",
    "from torch.utils.data import Dataset, DataLoader, random_split, TensorDataset, ConcatDataset\n",
    "import torchvision.transforms as transforms\n",
    "import torchvision.transforms.functional as TF\n",
    "import matplotlib.pyplot as plt\n",
    "import torch.nn.functional as F\n",
    "from datetime import datetime\n",
    "from torchvision.utils import make_grid\n",
    "from tqdm import tqdm\n",
    "import wandb\n",
    "import os"
   ]
  },
  {
   "cell_type": "code",
   "execution_count": 2,
   "id": "1980733a-b28a-4e68-a70e-1841f64914af",
   "metadata": {},
   "outputs": [
    {
     "name": "stderr",
     "output_type": "stream",
     "text": [
      "Failed to detect the name of this notebook, you can set it manually with the WANDB_NOTEBOOK_NAME environment variable to enable code saving.\n",
      "\u001b[34m\u001b[1mwandb\u001b[0m: Currently logged in as: \u001b[33mwoosuknam\u001b[0m (\u001b[33masseertive\u001b[0m). Use \u001b[1m`wandb login --relogin`\u001b[0m to force relogin\n"
     ]
    },
    {
     "data": {
      "text/html": [
       "Tracking run with wandb version 0.15.12"
      ],
      "text/plain": [
       "<IPython.core.display.HTML object>"
      ]
     },
     "metadata": {},
     "output_type": "display_data"
    },
    {
     "data": {
      "text/html": [
       "Run data is saved locally in <code>/home/dblab/23-dcc/wandb/run-20231103_015056-y11cvxz7</code>"
      ],
      "text/plain": [
       "<IPython.core.display.HTML object>"
      ]
     },
     "metadata": {},
     "output_type": "display_data"
    },
    {
     "data": {
      "text/html": [
       "Syncing run <strong><a href='https://wandb.ai/asseertive/23-dcc/runs/y11cvxz7' target=\"_blank\">CenterCrop (50 -> 32), Conv3, Do1(0.15)</a></strong> to <a href='https://wandb.ai/asseertive/23-dcc' target=\"_blank\">Weights & Biases</a> (<a href='https://wandb.me/run' target=\"_blank\">docs</a>)<br/>"
      ],
      "text/plain": [
       "<IPython.core.display.HTML object>"
      ]
     },
     "metadata": {},
     "output_type": "display_data"
    },
    {
     "data": {
      "text/html": [
       " View project at <a href='https://wandb.ai/asseertive/23-dcc' target=\"_blank\">https://wandb.ai/asseertive/23-dcc</a>"
      ],
      "text/plain": [
       "<IPython.core.display.HTML object>"
      ]
     },
     "metadata": {},
     "output_type": "display_data"
    },
    {
     "data": {
      "text/html": [
       " View run at <a href='https://wandb.ai/asseertive/23-dcc/runs/y11cvxz7' target=\"_blank\">https://wandb.ai/asseertive/23-dcc/runs/y11cvxz7</a>"
      ],
      "text/plain": [
       "<IPython.core.display.HTML object>"
      ]
     },
     "metadata": {},
     "output_type": "display_data"
    },
    {
     "name": "stderr",
     "output_type": "stream",
     "text": [
      "\u001b[34m\u001b[1mwandb\u001b[0m: \u001b[33mWARNING\u001b[0m Calling wandb.run.save without any arguments is deprecated.Changes to attributes are automatically persisted.\n"
     ]
    },
    {
     "data": {
      "text/plain": [
       "True"
      ]
     },
     "execution_count": 2,
     "metadata": {},
     "output_type": "execute_result"
    }
   ],
   "source": [
    "wandb.init(project=\"23-dcc\", name = 'CenterCrop (50 -> 32), Conv3, Do1(0.15)')\n",
    "\n",
    "wandb.run.save()"
   ]
  },
  {
   "cell_type": "code",
   "execution_count": 3,
   "id": "4ed72507-6914-4b45-854a-e45bb03efb16",
   "metadata": {},
   "outputs": [],
   "source": [
    "# 저장된 넘파이 배열 불러오기\n",
    "train_images = np.load('train_images.npy')\n",
    "train_labels = np.load('train_labels.npy')"
   ]
  },
  {
   "cell_type": "code",
   "execution_count": 4,
   "id": "56738fe0-fdae-4203-b7e0-86dfac297c02",
   "metadata": {},
   "outputs": [],
   "source": [
    "# 레이블 수정: 1번 레이블을 0(마스크 미착용), 2/3번 레이블을 1(마스크 착용)로 변경\n",
    "train_labels[train_labels == 1] = 0\n",
    "train_labels[train_labels == 2] = 1\n",
    "train_labels[train_labels == 3] = 1"
   ]
  },
  {
   "cell_type": "code",
   "execution_count": 5,
   "id": "94d5827a-6587-40f8-9a42-26b788afff00",
   "metadata": {},
   "outputs": [],
   "source": [
    "device = torch.device(\"cuda\" if torch.cuda.is_available() else \"cpu\")"
   ]
  },
  {
   "cell_type": "code",
   "execution_count": 6,
   "id": "11458596-8f0f-4463-af7c-d16bf52c9066",
   "metadata": {},
   "outputs": [],
   "source": [
    "# 데이터 증강을 위한 변환 정의\n",
    "transform = transforms.Compose([\n",
    "    transforms.RandomHorizontalFlip(),\n",
    "    transforms.RandomRotation(degrees=15),\n",
    "    transforms.CenterCrop((50,50)),\n",
    "    transforms.Resize((32,32))\n",
    "])\n",
    "\n",
    "# 데이터셋 정의\n",
    "class CustomDataset(Dataset):\n",
    "    def __init__(self, images, labels, transform=None, select_label=None, limit=None):\n",
    "        self.images = images\n",
    "        self.labels = labels\n",
    "        self.transform = transform\n",
    "        self.select_label = select_label\n",
    "        self.limit = limit\n",
    "\n",
    "    def __len__(self):\n",
    "        if self.limit is not None:\n",
    "            return self.limit\n",
    "            \n",
    "        return len(self.images)\n",
    "\n",
    "    def __getitem__(self, idx):\n",
    "        image = self.images[idx]\n",
    "        label = self.labels[idx]\n",
    "\n",
    "        if self.select_label is not None and label != self.select_label:\n",
    "            return self.__getitem__(idx + 1)\n",
    "\n",
    "        if self.transform:\n",
    "            image = self.transform(TF.to_pil_image(image))\n",
    "            image = TF.to_tensor(image)\n",
    "        else:\n",
    "            image = TF.to_tensor(image)\n",
    "\n",
    "        return image, label\n",
    "\n",
    "# original_dataset = CustomDataset(train_images, train_labels)\n",
    "augmented_dataset = CustomDataset(train_images, train_labels, transform)\n",
    "nomask_added_dataset = CustomDataset(train_images, train_labels, transform, select_label=0, limit=(sum(1 for label in train_labels if label == 1) - sum(1 for label in train_labels if label == 0)))\n",
    "\n",
    "dataset = ConcatDataset([augmented_dataset, nomask_added_dataset])"
   ]
  },
  {
   "cell_type": "code",
   "execution_count": 7,
   "id": "4e19bd73-dcdb-4198-8f75-61abcc2dcdda",
   "metadata": {},
   "outputs": [],
   "source": [
    "# 데이터를 train과 validation 세트로 나누기\n",
    "train_size = int(0.7 * len(dataset))\n",
    "valid_size = len(dataset) - train_size\n",
    "train_dataset, valid_dataset = random_split(dataset, [train_size, valid_size])\n",
    "\n",
    "# 데이터로더 설정\n",
    "batch_size = 64\n",
    "train_loader = DataLoader(train_dataset, batch_size=batch_size, shuffle=True)\n",
    "valid_loader = DataLoader(valid_dataset, batch_size=batch_size)"
   ]
  },
  {
   "cell_type": "code",
   "execution_count": 8,
   "id": "463d2ae2-3bbc-4688-ae51-1af763ed2a6e",
   "metadata": {},
   "outputs": [
    {
     "name": "stderr",
     "output_type": "stream",
     "text": [
      "100%|███████████████████████████████████████████████████████████████████████| 129600/129600 [00:00<00:00, 678615.41it/s]\n",
      "100%|█████████████████████████████████████████████████████████████████████████| 172800/172800 [00:18<00:00, 9440.70it/s]\n"
     ]
    },
    {
     "data": {
      "image/png": "[encoded data removed]",
      "text/plain": [
       "<Figure size 640x480 with 1 Axes>"
      ]
     },
     "metadata": {},
     "output_type": "display_data"
    }
   ],
   "source": [
    "original_class_count = [0, 0]\n",
    "combined_class_count = [0, 0]\n",
    "\n",
    "for label in tqdm(train_labels):\n",
    "    if label == 0:\n",
    "        original_class_count[0] += 1\n",
    "    if label == 1:\n",
    "        original_class_count[1] += 1\n",
    "\n",
    "for _, label in tqdm(dataset):\n",
    "    if label == 0:\n",
    "        combined_class_count[0] += 1\n",
    "    if label == 1:\n",
    "        combined_class_count[1] += 1\n",
    "\n",
    "# 시각화\n",
    "labels = ['no mask', 'mask']\n",
    "original_counts = [original_class_count[0], original_class_count[1]]\n",
    "combined_counts = [combined_class_count[0], combined_class_count[1]]\n",
    "\n",
    "bar_width = 0.35\n",
    "index = range(len(labels))\n",
    "\n",
    "plt.bar(index, original_counts, bar_width, label='Original Dataset', color='blue')\n",
    "plt.bar([i + bar_width for i in index], combined_counts, bar_width, label='Combined Dataset', color='orange')\n",
    "\n",
    "plt.xlabel('Class')\n",
    "plt.ylabel('Number of Images')\n",
    "plt.title('Comparison of Dataset Lengths by Class')\n",
    "plt.xticks([i + bar_width / 2 for i in index], labels)\n",
    "plt.legend()\n",
    "plt.show()\n",
    "# plt.savefig('comparison-of-dataset.png', dpi=200)"
   ]
  },
  {
   "cell_type": "code",
   "execution_count": 9,
   "id": "e5929a0f-513f-4241-bb83-9adce9ed23dd",
   "metadata": {},
   "outputs": [
    {
     "data": {
      "text/plain": [
       "CustomClassifier(\n",
       "  (conv1): Conv2d(3, 64, kernel_size=(3, 3), stride=(1, 1))\n",
       "  (relu1): ReLU()\n",
       "  (pool1): MaxPool2d(kernel_size=2, stride=2, padding=0, dilation=1, ceil_mode=False)\n",
       "  (dropout1): Dropout(p=0.15, inplace=False)\n",
       "  (conv2): Conv2d(64, 64, kernel_size=(3, 3), stride=(1, 1))\n",
       "  (relu2): ReLU()\n",
       "  (pool2): MaxPool2d(kernel_size=2, stride=2, padding=0, dilation=1, ceil_mode=False)\n",
       "  (conv3): Conv2d(64, 128, kernel_size=(3, 3), stride=(1, 1))\n",
       "  (relu3): ReLU()\n",
       "  (fc1): Linear(in_features=2048, out_features=128, bias=True)\n",
       "  (relu4): ReLU()\n",
       "  (fc2): Linear(in_features=128, out_features=256, bias=True)\n",
       "  (relu5): ReLU()\n",
       "  (fc3): Linear(in_features=256, out_features=1, bias=True)\n",
       "  (sigmoid): Sigmoid()\n",
       ")"
      ]
     },
     "execution_count": 9,
     "metadata": {},
     "output_type": "execute_result"
    }
   ],
   "source": [
    "# 이진 분류 모델 정의\n",
    "class CustomClassifier(nn.Module):\n",
    "    def __init__(self):\n",
    "        super(CustomClassifier, self).__init__()\n",
    "        self.conv1 = nn.Conv2d(in_channels=3, out_channels=64, kernel_size=3)\n",
    "        self.relu1 = nn.ReLU()\n",
    "        self.pool1 = nn.MaxPool2d(2)\n",
    "        self.dropout1 = nn.Dropout(0.15)\n",
    "        \n",
    "        self.conv2 = nn.Conv2d(in_channels=64, out_channels=64, kernel_size=3)\n",
    "        self.relu2 = nn.ReLU()\n",
    "        self.pool2 = nn.MaxPool2d(2)\n",
    "        \n",
    "        self.conv3 = nn.Conv2d(in_channels=64, out_channels=128, kernel_size=3)\n",
    "        self.relu3 = nn.ReLU()\n",
    "        \n",
    "        self.fc1 = nn.Linear(2048, 128)\n",
    "        self.relu4 = nn.ReLU()\n",
    "        \n",
    "        self.fc2 = nn.Linear(128, 256)\n",
    "        self.relu5 = nn.ReLU()\n",
    "        \n",
    "        self.fc3 = nn.Linear(256, 1)\n",
    "        self.sigmoid = nn.Sigmoid()\n",
    "\n",
    "    def forward(self, x):\n",
    "        x = self.conv1(x)\n",
    "        x = self.relu1(x)\n",
    "        x = self.pool1(x)\n",
    "        x = self.dropout1(x)\n",
    "        x = self.conv2(x)\n",
    "        x = self.relu2(x)\n",
    "        x = self.pool2(x)\n",
    "        x = self.conv3(x)\n",
    "        x = self.relu3(x)\n",
    "        x = x.view(x.size(0), -1)  # Flatten\n",
    "        x = self.fc1(x)\n",
    "        x = self.relu4(x)\n",
    "        x = self.fc2(x)\n",
    "        x = self.relu5(x)\n",
    "        x = self.fc3(x)\n",
    "        x = self.sigmoid(x)\n",
    "\n",
    "        return x\n",
    "\n",
    "model = CustomClassifier()\n",
    "model.to(device)"
   ]
  },
  {
   "cell_type": "markdown",
   "id": "201cdb82-fe71-44b2-9990-105c5548b18a",
   "metadata": {},
   "source": [
    "    Output:\n",
    "    CustomClassifier(\n",
    "      (conv1): Conv2d(3, 64, kernel_size=(3, 3), stride=(1, 1))\n",
    "      (relu1): ReLU()\n",
    "      (pool1): MaxPool2d(kernel_size=2, stride=2, padding=0, dilation=1, ceil_mode=False)\n",
    "      (dropout1): Dropout(p=0.15, inplace=False)\n",
    "      (conv2): Conv2d(64, 64, kernel_size=(3, 3), stride=(1, 1))\n",
    "      (relu2): ReLU()\n",
    "      (pool2): MaxPool2d(kernel_size=2, stride=2, padding=0, dilation=1, ceil_mode=False)\n",
    "      (conv3): Conv2d(64, 128, kernel_size=(3, 3), stride=(1, 1))\n",
    "      (relu3): ReLU()\n",
    "      (fc1): Linear(in_features=2048, out_features=128, bias=True)\n",
    "      (relu4): ReLU()\n",
    "      (fc2): Linear(in_features=128, out_features=256, bias=True)\n",
    "      (relu5): ReLU()\n",
    "      (fc3): Linear(in_features=256, out_features=1, bias=True)\n",
    "      (sigmoid): Sigmoid()\n",
    "    )"
   ]
  },
  {
   "cell_type": "code",
   "execution_count": 10,
   "id": "4955cef5-4b68-4506-a1f9-ab9d54085943",
   "metadata": {},
   "outputs": [
    {
     "data": {
      "text/plain": [
       "[]"
      ]
     },
     "execution_count": 10,
     "metadata": {},
     "output_type": "execute_result"
    }
   ],
   "source": [
    "# Hyperparameters\n",
    "learning_rate = 0.001\n",
    "\n",
    "# Loss function and optimizer\n",
    "criterion = nn.BCELoss().to(device)  # Binary Cross-Entropy Loss\n",
    "optimizer = optim.Adam(model.parameters(), lr=learning_rate)\n",
    "\n",
    "wandb.watch(model, criterion, log=\"all\")"
   ]
  },
  {
   "cell_type": "code",
   "execution_count": 11,
   "id": "1296eacb-f917-482b-b7b6-75d232961dcd",
   "metadata": {},
   "outputs": [],
   "source": [
    "# Define training and validation functions\n",
    "def train(model, train_loader, epoch):\n",
    "    model.train()\n",
    "    train_loss = 0.0\n",
    "\n",
    "    for inputs, labels in tqdm(train_loader, desc=f\"epoch {epoch}\"):\n",
    "        inputs, labels = inputs.to(device), labels.to(device)\n",
    "        optimizer.zero_grad()\n",
    "        outputs = model(inputs)\n",
    "        loss = criterion(outputs, labels.view_as(outputs).float())\n",
    "        loss.backward()\n",
    "        optimizer.step()\n",
    "        train_loss += loss.item()\n",
    "\n",
    "    return train_loss / len(train_loader)"
   ]
  },
  {
   "cell_type": "code",
   "execution_count": 12,
   "id": "273fd119-19f9-4044-b453-fd8918b55160",
   "metadata": {},
   "outputs": [],
   "source": [
    "def validate(model, valid_loader):\n",
    "    model.eval()\n",
    "    valid_loss = 0.0\n",
    "    correct = 0\n",
    "    total = 0\n",
    "\n",
    "    with torch.no_grad():\n",
    "        for inputs, labels in tqdm(valid_loader):\n",
    "            inputs, labels = inputs.to(device), labels.to(device)\n",
    "            outputs = model(inputs)\n",
    "            loss = criterion(outputs, labels.view_as(outputs).float())\n",
    "            valid_loss += loss.item()\n",
    "            predicted = (outputs > 0.5).squeeze()\n",
    "            total += labels.size(0)\n",
    "            correct += (predicted == labels.byte()).sum().item()\n",
    "\n",
    "    accuracy = 100 * correct / total\n",
    "    return valid_loss / len(valid_loader), accuracy"
   ]
  },
  {
   "cell_type": "code",
   "execution_count": 13,
   "id": "6ce20181-f0c7-4c6f-babb-93e086f3fac0",
   "metadata": {
    "scrolled": true
   },
   "outputs": [
    {
     "name": "stderr",
     "output_type": "stream",
     "text": [
      "epoch 0: 100%|█████████████████████████████████████████████████████████████████████| 1890/1890 [00:15<00:00, 118.91it/s]\n",
      "100%|████████████████████████████████████████████████████████████████████████████████| 811/811 [00:05<00:00, 136.38it/s]\n"
     ]
    },
    {
     "name": "stdout",
     "output_type": "stream",
     "text": [
      "Epoch 1/100:\n",
      "  Training Loss: 0.1089\n",
      "  Validation Loss: 0.0507\n",
      "  Validation Accuracy: 98.35%\n"
     ]
    },
    {
     "name": "stderr",
     "output_type": "stream",
     "text": [
      "epoch 1: 100%|█████████████████████████████████████████████████████████████████████| 1890/1890 [00:15<00:00, 120.23it/s]\n",
      "100%|████████████████████████████████████████████████████████████████████████████████| 811/811 [00:05<00:00, 136.38it/s]\n"
     ]
    },
    {
     "name": "stdout",
     "output_type": "stream",
     "text": [
      "Epoch 2/100:\n",
      "  Training Loss: 0.0449\n",
      "  Validation Loss: 0.0332\n",
      "  Validation Accuracy: 99.00%\n"
     ]
    },
    {
     "name": "stderr",
     "output_type": "stream",
     "text": [
      "epoch 2: 100%|█████████████████████████████████████████████████████████████████████| 1890/1890 [00:15<00:00, 120.41it/s]\n",
      "100%|████████████████████████████████████████████████████████████████████████████████| 811/811 [00:05<00:00, 136.35it/s]\n"
     ]
    },
    {
     "name": "stdout",
     "output_type": "stream",
     "text": [
      "Epoch 3/100:\n",
      "  Training Loss: 0.0361\n",
      "  Validation Loss: 0.0324\n",
      "  Validation Accuracy: 99.07%\n"
     ]
    },
    {
     "name": "stderr",
     "output_type": "stream",
     "text": [
      "epoch 3: 100%|█████████████████████████████████████████████████████████████████████| 1890/1890 [00:15<00:00, 120.24it/s]\n",
      "100%|████████████████████████████████████████████████████████████████████████████████| 811/811 [00:05<00:00, 136.99it/s]\n"
     ]
    },
    {
     "name": "stdout",
     "output_type": "stream",
     "text": [
      "Epoch 4/100:\n",
      "  Training Loss: 0.0306\n",
      "  Validation Loss: 0.0385\n",
      "  Validation Accuracy: 98.69%\n"
     ]
    },
    {
     "name": "stderr",
     "output_type": "stream",
     "text": [
      "epoch 4: 100%|█████████████████████████████████████████████████████████████████████| 1890/1890 [00:15<00:00, 120.50it/s]\n",
      "100%|████████████████████████████████████████████████████████████████████████████████| 811/811 [00:05<00:00, 136.97it/s]\n"
     ]
    },
    {
     "name": "stdout",
     "output_type": "stream",
     "text": [
      "Epoch 5/100:\n",
      "  Training Loss: 0.0270\n",
      "  Validation Loss: 0.0280\n",
      "  Validation Accuracy: 99.05%\n"
     ]
    },
    {
     "name": "stderr",
     "output_type": "stream",
     "text": [
      "epoch 5: 100%|█████████████████████████████████████████████████████████████████████| 1890/1890 [00:15<00:00, 120.40it/s]\n",
      "100%|████████████████████████████████████████████████████████████████████████████████| 811/811 [00:05<00:00, 137.18it/s]\n"
     ]
    },
    {
     "name": "stdout",
     "output_type": "stream",
     "text": [
      "Epoch 6/100:\n",
      "  Training Loss: 0.0254\n",
      "  Validation Loss: 0.0232\n",
      "  Validation Accuracy: 99.31%\n"
     ]
    },
    {
     "name": "stderr",
     "output_type": "stream",
     "text": [
      "epoch 6: 100%|█████████████████████████████████████████████████████████████████████| 1890/1890 [00:15<00:00, 120.29it/s]\n",
      "100%|████████████████████████████████████████████████████████████████████████████████| 811/811 [00:05<00:00, 136.63it/s]\n"
     ]
    },
    {
     "name": "stdout",
     "output_type": "stream",
     "text": [
      "Epoch 7/100:\n",
      "  Training Loss: 0.0226\n",
      "  Validation Loss: 0.0217\n",
      "  Validation Accuracy: 99.26%\n"
     ]
    },
    {
     "name": "stderr",
     "output_type": "stream",
     "text": [
      "epoch 7: 100%|█████████████████████████████████████████████████████████████████████| 1890/1890 [00:15<00:00, 120.64it/s]\n",
      "100%|████████████████████████████████████████████████████████████████████████████████| 811/811 [00:05<00:00, 137.07it/s]\n"
     ]
    },
    {
     "name": "stdout",
     "output_type": "stream",
     "text": [
      "Epoch 8/100:\n",
      "  Training Loss: 0.0207\n",
      "  Validation Loss: 0.0182\n",
      "  Validation Accuracy: 99.35%\n"
     ]
    },
    {
     "name": "stderr",
     "output_type": "stream",
     "text": [
      "epoch 8: 100%|█████████████████████████████████████████████████████████████████████| 1890/1890 [00:15<00:00, 120.34it/s]\n",
      "100%|████████████████████████████████████████████████████████████████████████████████| 811/811 [00:05<00:00, 136.52it/s]\n"
     ]
    },
    {
     "name": "stdout",
     "output_type": "stream",
     "text": [
      "Epoch 9/100:\n",
      "  Training Loss: 0.0192\n",
      "  Validation Loss: 0.0186\n",
      "  Validation Accuracy: 99.40%\n"
     ]
    },
    {
     "name": "stderr",
     "output_type": "stream",
     "text": [
      "epoch 9: 100%|█████████████████████████████████████████████████████████████████████| 1890/1890 [00:15<00:00, 120.49it/s]\n",
      "100%|████████████████████████████████████████████████████████████████████████████████| 811/811 [00:05<00:00, 136.96it/s]\n"
     ]
    },
    {
     "name": "stdout",
     "output_type": "stream",
     "text": [
      "Epoch 10/100:\n",
      "  Training Loss: 0.0173\n",
      "  Validation Loss: 0.0179\n",
      "  Validation Accuracy: 99.37%\n"
     ]
    },
    {
     "name": "stderr",
     "output_type": "stream",
     "text": [
      "epoch 10: 100%|████████████████████████████████████████████████████████████████████| 1890/1890 [00:15<00:00, 120.56it/s]\n",
      "100%|████████████████████████████████████████████████████████████████████████████████| 811/811 [00:05<00:00, 136.84it/s]\n"
     ]
    },
    {
     "name": "stdout",
     "output_type": "stream",
     "text": [
      "Epoch 11/100:\n",
      "  Training Loss: 0.0171\n",
      "  Validation Loss: 0.0178\n",
      "  Validation Accuracy: 99.47%\n"
     ]
    },
    {
     "name": "stderr",
     "output_type": "stream",
     "text": [
      "epoch 11: 100%|████████████████████████████████████████████████████████████████████| 1890/1890 [00:15<00:00, 120.04it/s]\n",
      "100%|████████████████████████████████████████████████████████████████████████████████| 811/811 [00:05<00:00, 137.18it/s]\n"
     ]
    },
    {
     "name": "stdout",
     "output_type": "stream",
     "text": [
      "Epoch 12/100:\n",
      "  Training Loss: 0.0153\n",
      "  Validation Loss: 0.0190\n",
      "  Validation Accuracy: 99.34%\n"
     ]
    },
    {
     "name": "stderr",
     "output_type": "stream",
     "text": [
      "epoch 12: 100%|████████████████████████████████████████████████████████████████████| 1890/1890 [00:15<00:00, 120.57it/s]\n",
      "100%|████████████████████████████████████████████████████████████████████████████████| 811/811 [00:05<00:00, 136.77it/s]\n"
     ]
    },
    {
     "name": "stdout",
     "output_type": "stream",
     "text": [
      "Epoch 13/100:\n",
      "  Training Loss: 0.0151\n",
      "  Validation Loss: 0.0127\n",
      "  Validation Accuracy: 99.59%\n"
     ]
    },
    {
     "name": "stderr",
     "output_type": "stream",
     "text": [
      "epoch 13: 100%|████████████████████████████████████████████████████████████████████| 1890/1890 [00:15<00:00, 120.60it/s]\n",
      "100%|████████████████████████████████████████████████████████████████████████████████| 811/811 [00:05<00:00, 137.03it/s]\n"
     ]
    },
    {
     "name": "stdout",
     "output_type": "stream",
     "text": [
      "Epoch 14/100:\n",
      "  Training Loss: 0.0152\n",
      "  Validation Loss: 0.0118\n",
      "  Validation Accuracy: 99.59%\n"
     ]
    },
    {
     "name": "stderr",
     "output_type": "stream",
     "text": [
      "epoch 14: 100%|████████████████████████████████████████████████████████████████████| 1890/1890 [00:15<00:00, 120.74it/s]\n",
      "100%|████████████████████████████████████████████████████████████████████████████████| 811/811 [00:05<00:00, 136.73it/s]\n"
     ]
    },
    {
     "name": "stdout",
     "output_type": "stream",
     "text": [
      "Epoch 15/100:\n",
      "  Training Loss: 0.0135\n",
      "  Validation Loss: 0.0145\n",
      "  Validation Accuracy: 99.53%\n"
     ]
    },
    {
     "name": "stderr",
     "output_type": "stream",
     "text": [
      "epoch 15: 100%|████████████████████████████████████████████████████████████████████| 1890/1890 [00:15<00:00, 120.42it/s]\n",
      "100%|████████████████████████████████████████████████████████████████████████████████| 811/811 [00:05<00:00, 136.85it/s]\n"
     ]
    },
    {
     "name": "stdout",
     "output_type": "stream",
     "text": [
      "Epoch 16/100:\n",
      "  Training Loss: 0.0135\n",
      "  Validation Loss: 0.0153\n",
      "  Validation Accuracy: 99.47%\n"
     ]
    },
    {
     "name": "stderr",
     "output_type": "stream",
     "text": [
      "epoch 16: 100%|████████████████████████████████████████████████████████████████████| 1890/1890 [00:15<00:00, 120.52it/s]\n",
      "100%|████████████████████████████████████████████████████████████████████████████████| 811/811 [00:05<00:00, 137.01it/s]\n"
     ]
    },
    {
     "name": "stdout",
     "output_type": "stream",
     "text": [
      "Epoch 17/100:\n",
      "  Training Loss: 0.0125\n",
      "  Validation Loss: 0.0150\n",
      "  Validation Accuracy: 99.50%\n"
     ]
    },
    {
     "name": "stderr",
     "output_type": "stream",
     "text": [
      "epoch 17: 100%|████████████████████████████████████████████████████████████████████| 1890/1890 [00:15<00:00, 120.32it/s]\n",
      "100%|████████████████████████████████████████████████████████████████████████████████| 811/811 [00:05<00:00, 136.49it/s]\n"
     ]
    },
    {
     "name": "stdout",
     "output_type": "stream",
     "text": [
      "Epoch 18/100:\n",
      "  Training Loss: 0.0127\n",
      "  Validation Loss: 0.0110\n",
      "  Validation Accuracy: 99.63%\n"
     ]
    },
    {
     "name": "stderr",
     "output_type": "stream",
     "text": [
      "epoch 18: 100%|████████████████████████████████████████████████████████████████████| 1890/1890 [00:15<00:00, 120.48it/s]\n",
      "100%|████████████████████████████████████████████████████████████████████████████████| 811/811 [00:05<00:00, 136.51it/s]\n"
     ]
    },
    {
     "name": "stdout",
     "output_type": "stream",
     "text": [
      "Epoch 19/100:\n",
      "  Training Loss: 0.0116\n",
      "  Validation Loss: 0.0123\n",
      "  Validation Accuracy: 99.61%\n"
     ]
    },
    {
     "name": "stderr",
     "output_type": "stream",
     "text": [
      "epoch 19: 100%|████████████████████████████████████████████████████████████████████| 1890/1890 [00:15<00:00, 120.33it/s]\n",
      "100%|████████████████████████████████████████████████████████████████████████████████| 811/811 [00:05<00:00, 136.61it/s]\n"
     ]
    },
    {
     "name": "stdout",
     "output_type": "stream",
     "text": [
      "Epoch 20/100:\n",
      "  Training Loss: 0.0114\n",
      "  Validation Loss: 0.0134\n",
      "  Validation Accuracy: 99.57%\n"
     ]
    },
    {
     "name": "stderr",
     "output_type": "stream",
     "text": [
      "epoch 20: 100%|████████████████████████████████████████████████████████████████████| 1890/1890 [00:15<00:00, 120.21it/s]\n",
      "100%|████████████████████████████████████████████████████████████████████████████████| 811/811 [00:05<00:00, 136.74it/s]\n"
     ]
    },
    {
     "name": "stdout",
     "output_type": "stream",
     "text": [
      "Epoch 21/100:\n",
      "  Training Loss: 0.0115\n",
      "  Validation Loss: 0.0135\n",
      "  Validation Accuracy: 99.53%\n"
     ]
    },
    {
     "name": "stderr",
     "output_type": "stream",
     "text": [
      "epoch 21: 100%|████████████████████████████████████████████████████████████████████| 1890/1890 [00:15<00:00, 120.47it/s]\n",
      "100%|████████████████████████████████████████████████████████████████████████████████| 811/811 [00:05<00:00, 136.41it/s]\n"
     ]
    },
    {
     "name": "stdout",
     "output_type": "stream",
     "text": [
      "Epoch 22/100:\n",
      "  Training Loss: 0.0100\n",
      "  Validation Loss: 0.0106\n",
      "  Validation Accuracy: 99.67%\n"
     ]
    },
    {
     "name": "stderr",
     "output_type": "stream",
     "text": [
      "epoch 22: 100%|████████████████████████████████████████████████████████████████████| 1890/1890 [00:15<00:00, 120.26it/s]\n",
      "100%|████████████████████████████████████████████████████████████████████████████████| 811/811 [00:05<00:00, 136.30it/s]\n"
     ]
    },
    {
     "name": "stdout",
     "output_type": "stream",
     "text": [
      "Epoch 23/100:\n",
      "  Training Loss: 0.0112\n",
      "  Validation Loss: 0.0117\n",
      "  Validation Accuracy: 99.63%\n"
     ]
    },
    {
     "name": "stderr",
     "output_type": "stream",
     "text": [
      "epoch 23: 100%|████████████████████████████████████████████████████████████████████| 1890/1890 [00:15<00:00, 120.34it/s]\n",
      "100%|████████████████████████████████████████████████████████████████████████████████| 811/811 [00:05<00:00, 136.36it/s]\n"
     ]
    },
    {
     "name": "stdout",
     "output_type": "stream",
     "text": [
      "Epoch 24/100:\n",
      "  Training Loss: 0.0122\n",
      "  Validation Loss: 0.0138\n",
      "  Validation Accuracy: 99.61%\n"
     ]
    },
    {
     "name": "stderr",
     "output_type": "stream",
     "text": [
      "epoch 24: 100%|████████████████████████████████████████████████████████████████████| 1890/1890 [00:15<00:00, 120.32it/s]\n",
      "100%|████████████████████████████████████████████████████████████████████████████████| 811/811 [00:05<00:00, 136.65it/s]\n"
     ]
    },
    {
     "name": "stdout",
     "output_type": "stream",
     "text": [
      "Epoch 25/100:\n",
      "  Training Loss: 0.0110\n",
      "  Validation Loss: 0.0087\n",
      "  Validation Accuracy: 99.73%\n"
     ]
    },
    {
     "name": "stderr",
     "output_type": "stream",
     "text": [
      "epoch 25: 100%|████████████████████████████████████████████████████████████████████| 1890/1890 [00:15<00:00, 120.37it/s]\n",
      "100%|████████████████████████████████████████████████████████████████████████████████| 811/811 [00:05<00:00, 136.77it/s]\n"
     ]
    },
    {
     "name": "stdout",
     "output_type": "stream",
     "text": [
      "Epoch 26/100:\n",
      "  Training Loss: 0.0090\n",
      "  Validation Loss: 0.0135\n",
      "  Validation Accuracy: 99.69%\n"
     ]
    },
    {
     "name": "stderr",
     "output_type": "stream",
     "text": [
      "epoch 26: 100%|████████████████████████████████████████████████████████████████████| 1890/1890 [00:15<00:00, 120.20it/s]\n",
      "100%|████████████████████████████████████████████████████████████████████████████████| 811/811 [00:05<00:00, 136.76it/s]\n"
     ]
    },
    {
     "name": "stdout",
     "output_type": "stream",
     "text": [
      "Epoch 27/100:\n",
      "  Training Loss: 0.0110\n",
      "  Validation Loss: 0.0226\n",
      "  Validation Accuracy: 99.39%\n"
     ]
    },
    {
     "name": "stderr",
     "output_type": "stream",
     "text": [
      "epoch 27: 100%|████████████████████████████████████████████████████████████████████| 1890/1890 [00:15<00:00, 120.16it/s]\n",
      "100%|████████████████████████████████████████████████████████████████████████████████| 811/811 [00:05<00:00, 136.76it/s]\n"
     ]
    },
    {
     "name": "stdout",
     "output_type": "stream",
     "text": [
      "Epoch 28/100:\n",
      "  Training Loss: 0.0092\n",
      "  Validation Loss: 0.0136\n",
      "  Validation Accuracy: 99.60%\n"
     ]
    },
    {
     "name": "stderr",
     "output_type": "stream",
     "text": [
      "epoch 28: 100%|████████████████████████████████████████████████████████████████████| 1890/1890 [00:15<00:00, 120.30it/s]\n",
      "100%|████████████████████████████████████████████████████████████████████████████████| 811/811 [00:05<00:00, 136.71it/s]\n"
     ]
    },
    {
     "name": "stdout",
     "output_type": "stream",
     "text": [
      "Epoch 29/100:\n",
      "  Training Loss: 0.0095\n",
      "  Validation Loss: 0.0106\n",
      "  Validation Accuracy: 99.69%\n"
     ]
    },
    {
     "name": "stderr",
     "output_type": "stream",
     "text": [
      "epoch 29: 100%|████████████████████████████████████████████████████████████████████| 1890/1890 [00:15<00:00, 120.26it/s]\n",
      "100%|████████████████████████████████████████████████████████████████████████████████| 811/811 [00:05<00:00, 136.62it/s]\n"
     ]
    },
    {
     "name": "stdout",
     "output_type": "stream",
     "text": [
      "Epoch 30/100:\n",
      "  Training Loss: 0.0090\n",
      "  Validation Loss: 0.0111\n",
      "  Validation Accuracy: 99.63%\n"
     ]
    },
    {
     "name": "stderr",
     "output_type": "stream",
     "text": [
      "epoch 30: 100%|████████████████████████████████████████████████████████████████████| 1890/1890 [00:15<00:00, 120.24it/s]\n",
      "100%|████████████████████████████████████████████████████████████████████████████████| 811/811 [00:05<00:00, 137.22it/s]\n"
     ]
    },
    {
     "name": "stdout",
     "output_type": "stream",
     "text": [
      "Epoch 31/100:\n",
      "  Training Loss: 0.0082\n",
      "  Validation Loss: 0.0146\n",
      "  Validation Accuracy: 99.59%\n"
     ]
    },
    {
     "name": "stderr",
     "output_type": "stream",
     "text": [
      "epoch 31: 100%|████████████████████████████████████████████████████████████████████| 1890/1890 [00:15<00:00, 120.32it/s]\n",
      "100%|████████████████████████████████████████████████████████████████████████████████| 811/811 [00:05<00:00, 136.42it/s]\n"
     ]
    },
    {
     "name": "stdout",
     "output_type": "stream",
     "text": [
      "Epoch 32/100:\n",
      "  Training Loss: 0.0089\n",
      "  Validation Loss: 0.0093\n",
      "  Validation Accuracy: 99.70%\n"
     ]
    },
    {
     "name": "stderr",
     "output_type": "stream",
     "text": [
      "epoch 32: 100%|████████████████████████████████████████████████████████████████████| 1890/1890 [00:15<00:00, 120.19it/s]\n",
      "100%|████████████████████████████████████████████████████████████████████████████████| 811/811 [00:05<00:00, 136.92it/s]\n"
     ]
    },
    {
     "name": "stdout",
     "output_type": "stream",
     "text": [
      "Epoch 33/100:\n",
      "  Training Loss: 0.0089\n",
      "  Validation Loss: 0.0140\n",
      "  Validation Accuracy: 99.68%\n"
     ]
    },
    {
     "name": "stderr",
     "output_type": "stream",
     "text": [
      "epoch 33: 100%|████████████████████████████████████████████████████████████████████| 1890/1890 [00:15<00:00, 120.13it/s]\n",
      "100%|████████████████████████████████████████████████████████████████████████████████| 811/811 [00:05<00:00, 136.88it/s]\n"
     ]
    },
    {
     "name": "stdout",
     "output_type": "stream",
     "text": [
      "Epoch 34/100:\n",
      "  Training Loss: 0.0082\n",
      "  Validation Loss: 0.0083\n",
      "  Validation Accuracy: 99.76%\n"
     ]
    },
    {
     "name": "stderr",
     "output_type": "stream",
     "text": [
      "epoch 34: 100%|████████████████████████████████████████████████████████████████████| 1890/1890 [00:15<00:00, 120.14it/s]\n",
      "100%|████████████████████████████████████████████████████████████████████████████████| 811/811 [00:05<00:00, 136.75it/s]\n"
     ]
    },
    {
     "name": "stdout",
     "output_type": "stream",
     "text": [
      "Epoch 35/100:\n",
      "  Training Loss: 0.0086\n",
      "  Validation Loss: 0.0185\n",
      "  Validation Accuracy: 99.50%\n"
     ]
    },
    {
     "name": "stderr",
     "output_type": "stream",
     "text": [
      "epoch 35: 100%|████████████████████████████████████████████████████████████████████| 1890/1890 [00:15<00:00, 120.14it/s]\n",
      "100%|████████████████████████████████████████████████████████████████████████████████| 811/811 [00:05<00:00, 136.38it/s]\n"
     ]
    },
    {
     "name": "stdout",
     "output_type": "stream",
     "text": [
      "Epoch 36/100:\n",
      "  Training Loss: 0.0080\n",
      "  Validation Loss: 0.0093\n",
      "  Validation Accuracy: 99.70%\n"
     ]
    },
    {
     "name": "stderr",
     "output_type": "stream",
     "text": [
      "epoch 36: 100%|████████████████████████████████████████████████████████████████████| 1890/1890 [00:15<00:00, 120.27it/s]\n",
      "100%|████████████████████████████████████████████████████████████████████████████████| 811/811 [00:05<00:00, 136.60it/s]\n"
     ]
    },
    {
     "name": "stdout",
     "output_type": "stream",
     "text": [
      "Epoch 37/100:\n",
      "  Training Loss: 0.0084\n",
      "  Validation Loss: 0.0089\n",
      "  Validation Accuracy: 99.75%\n"
     ]
    },
    {
     "name": "stderr",
     "output_type": "stream",
     "text": [
      "epoch 37: 100%|████████████████████████████████████████████████████████████████████| 1890/1890 [00:15<00:00, 120.35it/s]\n",
      "100%|████████████████████████████████████████████████████████████████████████████████| 811/811 [00:05<00:00, 136.87it/s]\n"
     ]
    },
    {
     "name": "stdout",
     "output_type": "stream",
     "text": [
      "Epoch 38/100:\n",
      "  Training Loss: 0.0077\n",
      "  Validation Loss: 0.0092\n",
      "  Validation Accuracy: 99.73%\n"
     ]
    },
    {
     "name": "stderr",
     "output_type": "stream",
     "text": [
      "epoch 38: 100%|████████████████████████████████████████████████████████████████████| 1890/1890 [00:15<00:00, 120.22it/s]\n",
      "100%|████████████████████████████████████████████████████████████████████████████████| 811/811 [00:05<00:00, 136.27it/s]\n"
     ]
    },
    {
     "name": "stdout",
     "output_type": "stream",
     "text": [
      "Epoch 39/100:\n",
      "  Training Loss: 0.0072\n",
      "  Validation Loss: 0.0132\n",
      "  Validation Accuracy: 99.60%\n"
     ]
    },
    {
     "name": "stderr",
     "output_type": "stream",
     "text": [
      "epoch 39: 100%|████████████████████████████████████████████████████████████████████| 1890/1890 [00:15<00:00, 120.31it/s]\n",
      "100%|████████████████████████████████████████████████████████████████████████████████| 811/811 [00:05<00:00, 136.83it/s]\n"
     ]
    },
    {
     "name": "stdout",
     "output_type": "stream",
     "text": [
      "Epoch 40/100:\n",
      "  Training Loss: 0.0084\n",
      "  Validation Loss: 0.0123\n",
      "  Validation Accuracy: 99.72%\n"
     ]
    },
    {
     "name": "stderr",
     "output_type": "stream",
     "text": [
      "epoch 40: 100%|████████████████████████████████████████████████████████████████████| 1890/1890 [00:15<00:00, 120.42it/s]\n",
      "100%|████████████████████████████████████████████████████████████████████████████████| 811/811 [00:05<00:00, 136.64it/s]\n"
     ]
    },
    {
     "name": "stdout",
     "output_type": "stream",
     "text": [
      "Epoch 41/100:\n",
      "  Training Loss: 0.0092\n",
      "  Validation Loss: 0.0101\n",
      "  Validation Accuracy: 99.71%\n"
     ]
    },
    {
     "name": "stderr",
     "output_type": "stream",
     "text": [
      "epoch 41: 100%|████████████████████████████████████████████████████████████████████| 1890/1890 [00:15<00:00, 120.48it/s]\n",
      "100%|████████████████████████████████████████████████████████████████████████████████| 811/811 [00:05<00:00, 136.84it/s]\n"
     ]
    },
    {
     "name": "stdout",
     "output_type": "stream",
     "text": [
      "Epoch 42/100:\n",
      "  Training Loss: 0.0069\n",
      "  Validation Loss: 0.0107\n",
      "  Validation Accuracy: 99.73%\n"
     ]
    },
    {
     "name": "stderr",
     "output_type": "stream",
     "text": [
      "epoch 42: 100%|████████████████████████████████████████████████████████████████████| 1890/1890 [00:15<00:00, 120.30it/s]\n",
      "100%|████████████████████████████████████████████████████████████████████████████████| 811/811 [00:05<00:00, 137.13it/s]\n"
     ]
    },
    {
     "name": "stdout",
     "output_type": "stream",
     "text": [
      "Epoch 43/100:\n",
      "  Training Loss: 0.0080\n",
      "  Validation Loss: 0.0108\n",
      "  Validation Accuracy: 99.75%\n"
     ]
    },
    {
     "name": "stderr",
     "output_type": "stream",
     "text": [
      "epoch 43: 100%|████████████████████████████████████████████████████████████████████| 1890/1890 [00:15<00:00, 120.47it/s]\n",
      "100%|████████████████████████████████████████████████████████████████████████████████| 811/811 [00:05<00:00, 136.97it/s]\n"
     ]
    },
    {
     "name": "stdout",
     "output_type": "stream",
     "text": [
      "Epoch 44/100:\n",
      "  Training Loss: 0.0074\n",
      "  Validation Loss: 0.0095\n",
      "  Validation Accuracy: 99.78%\n"
     ]
    },
    {
     "name": "stderr",
     "output_type": "stream",
     "text": [
      "epoch 44: 100%|████████████████████████████████████████████████████████████████████| 1890/1890 [00:15<00:00, 120.56it/s]\n",
      "100%|████████████████████████████████████████████████████████████████████████████████| 811/811 [00:05<00:00, 136.85it/s]\n"
     ]
    },
    {
     "name": "stdout",
     "output_type": "stream",
     "text": [
      "Epoch 45/100:\n",
      "  Training Loss: 0.0083\n",
      "  Validation Loss: 0.0093\n",
      "  Validation Accuracy: 99.75%\n"
     ]
    },
    {
     "name": "stderr",
     "output_type": "stream",
     "text": [
      "epoch 45: 100%|████████████████████████████████████████████████████████████████████| 1890/1890 [00:15<00:00, 120.24it/s]\n",
      "100%|████████████████████████████████████████████████████████████████████████████████| 811/811 [00:05<00:00, 136.96it/s]\n"
     ]
    },
    {
     "name": "stdout",
     "output_type": "stream",
     "text": [
      "Epoch 46/100:\n",
      "  Training Loss: 0.0084\n",
      "  Validation Loss: 0.0150\n",
      "  Validation Accuracy: 99.68%\n"
     ]
    },
    {
     "name": "stderr",
     "output_type": "stream",
     "text": [
      "epoch 46: 100%|████████████████████████████████████████████████████████████████████| 1890/1890 [00:15<00:00, 120.50it/s]\n",
      "100%|████████████████████████████████████████████████████████████████████████████████| 811/811 [00:05<00:00, 136.87it/s]\n"
     ]
    },
    {
     "name": "stdout",
     "output_type": "stream",
     "text": [
      "Epoch 47/100:\n",
      "  Training Loss: 0.0068\n",
      "  Validation Loss: 0.0111\n",
      "  Validation Accuracy: 99.71%\n"
     ]
    },
    {
     "name": "stderr",
     "output_type": "stream",
     "text": [
      "epoch 47: 100%|████████████████████████████████████████████████████████████████████| 1890/1890 [00:15<00:00, 120.23it/s]\n",
      "100%|████████████████████████████████████████████████████████████████████████████████| 811/811 [00:05<00:00, 137.38it/s]\n"
     ]
    },
    {
     "name": "stdout",
     "output_type": "stream",
     "text": [
      "Epoch 48/100:\n",
      "  Training Loss: 0.0075\n",
      "  Validation Loss: 0.0098\n",
      "  Validation Accuracy: 99.70%\n"
     ]
    },
    {
     "name": "stderr",
     "output_type": "stream",
     "text": [
      "epoch 48: 100%|████████████████████████████████████████████████████████████████████| 1890/1890 [00:15<00:00, 120.47it/s]\n",
      "100%|████████████████████████████████████████████████████████████████████████████████| 811/811 [00:05<00:00, 136.89it/s]\n"
     ]
    },
    {
     "name": "stdout",
     "output_type": "stream",
     "text": [
      "Epoch 49/100:\n",
      "  Training Loss: 0.0071\n",
      "  Validation Loss: 0.0103\n",
      "  Validation Accuracy: 99.71%\n"
     ]
    },
    {
     "name": "stderr",
     "output_type": "stream",
     "text": [
      "epoch 49: 100%|████████████████████████████████████████████████████████████████████| 1890/1890 [00:15<00:00, 120.35it/s]\n",
      "100%|████████████████████████████████████████████████████████████████████████████████| 811/811 [00:05<00:00, 136.57it/s]\n"
     ]
    },
    {
     "name": "stdout",
     "output_type": "stream",
     "text": [
      "Epoch 50/100:\n",
      "  Training Loss: 0.0078\n",
      "  Validation Loss: 0.0135\n",
      "  Validation Accuracy: 99.74%\n"
     ]
    },
    {
     "name": "stderr",
     "output_type": "stream",
     "text": [
      "epoch 50: 100%|████████████████████████████████████████████████████████████████████| 1890/1890 [00:15<00:00, 120.06it/s]\n",
      "100%|████████████████████████████████████████████████████████████████████████████████| 811/811 [00:05<00:00, 137.02it/s]\n"
     ]
    },
    {
     "name": "stdout",
     "output_type": "stream",
     "text": [
      "Epoch 51/100:\n",
      "  Training Loss: 0.0075\n",
      "  Validation Loss: 0.0098\n",
      "  Validation Accuracy: 99.74%\n"
     ]
    },
    {
     "name": "stderr",
     "output_type": "stream",
     "text": [
      "epoch 51: 100%|████████████████████████████████████████████████████████████████████| 1890/1890 [00:15<00:00, 120.09it/s]\n",
      "100%|████████████████████████████████████████████████████████████████████████████████| 811/811 [00:05<00:00, 136.76it/s]\n"
     ]
    },
    {
     "name": "stdout",
     "output_type": "stream",
     "text": [
      "Epoch 52/100:\n",
      "  Training Loss: 0.0065\n",
      "  Validation Loss: 0.0096\n",
      "  Validation Accuracy: 99.79%\n"
     ]
    },
    {
     "name": "stderr",
     "output_type": "stream",
     "text": [
      "epoch 52: 100%|████████████████████████████████████████████████████████████████████| 1890/1890 [00:15<00:00, 120.35it/s]\n",
      "100%|████████████████████████████████████████████████████████████████████████████████| 811/811 [00:05<00:00, 136.72it/s]\n"
     ]
    },
    {
     "name": "stdout",
     "output_type": "stream",
     "text": [
      "Epoch 53/100:\n",
      "  Training Loss: 0.0080\n",
      "  Validation Loss: 0.0168\n",
      "  Validation Accuracy: 99.72%\n"
     ]
    },
    {
     "name": "stderr",
     "output_type": "stream",
     "text": [
      "epoch 53: 100%|████████████████████████████████████████████████████████████████████| 1890/1890 [00:15<00:00, 120.29it/s]\n",
      "100%|████████████████████████████████████████████████████████████████████████████████| 811/811 [00:05<00:00, 137.07it/s]\n"
     ]
    },
    {
     "name": "stdout",
     "output_type": "stream",
     "text": [
      "Epoch 54/100:\n",
      "  Training Loss: 0.0091\n",
      "  Validation Loss: 0.0087\n",
      "  Validation Accuracy: 99.73%\n"
     ]
    },
    {
     "name": "stderr",
     "output_type": "stream",
     "text": [
      "epoch 54: 100%|████████████████████████████████████████████████████████████████████| 1890/1890 [00:15<00:00, 120.50it/s]\n",
      "100%|████████████████████████████████████████████████████████████████████████████████| 811/811 [00:05<00:00, 136.88it/s]\n"
     ]
    },
    {
     "name": "stdout",
     "output_type": "stream",
     "text": [
      "Epoch 55/100:\n",
      "  Training Loss: 0.0069\n",
      "  Validation Loss: 0.0138\n",
      "  Validation Accuracy: 99.70%\n"
     ]
    },
    {
     "name": "stderr",
     "output_type": "stream",
     "text": [
      "epoch 55: 100%|████████████████████████████████████████████████████████████████████| 1890/1890 [00:15<00:00, 120.48it/s]\n",
      "100%|████████████████████████████████████████████████████████████████████████████████| 811/811 [00:05<00:00, 136.51it/s]\n"
     ]
    },
    {
     "name": "stdout",
     "output_type": "stream",
     "text": [
      "Epoch 56/100:\n",
      "  Training Loss: 0.0073\n",
      "  Validation Loss: 0.0145\n",
      "  Validation Accuracy: 99.67%\n"
     ]
    },
    {
     "name": "stderr",
     "output_type": "stream",
     "text": [
      "epoch 56: 100%|████████████████████████████████████████████████████████████████████| 1890/1890 [00:15<00:00, 120.43it/s]\n",
      "100%|████████████████████████████████████████████████████████████████████████████████| 811/811 [00:05<00:00, 137.16it/s]\n"
     ]
    },
    {
     "name": "stdout",
     "output_type": "stream",
     "text": [
      "Epoch 57/100:\n",
      "  Training Loss: 0.0069\n",
      "  Validation Loss: 0.0122\n",
      "  Validation Accuracy: 99.72%\n"
     ]
    },
    {
     "name": "stderr",
     "output_type": "stream",
     "text": [
      "epoch 57: 100%|████████████████████████████████████████████████████████████████████| 1890/1890 [00:15<00:00, 120.56it/s]\n",
      "100%|████████████████████████████████████████████████████████████████████████████████| 811/811 [00:05<00:00, 136.64it/s]\n"
     ]
    },
    {
     "name": "stdout",
     "output_type": "stream",
     "text": [
      "Epoch 58/100:\n",
      "  Training Loss: 0.0078\n",
      "  Validation Loss: 0.0266\n",
      "  Validation Accuracy: 99.65%\n"
     ]
    },
    {
     "name": "stderr",
     "output_type": "stream",
     "text": [
      "epoch 58: 100%|████████████████████████████████████████████████████████████████████| 1890/1890 [00:15<00:00, 120.31it/s]\n",
      "100%|████████████████████████████████████████████████████████████████████████████████| 811/811 [00:05<00:00, 137.18it/s]\n"
     ]
    },
    {
     "name": "stdout",
     "output_type": "stream",
     "text": [
      "Epoch 59/100:\n",
      "  Training Loss: 0.0120\n",
      "  Validation Loss: 0.0095\n",
      "  Validation Accuracy: 99.78%\n"
     ]
    },
    {
     "name": "stderr",
     "output_type": "stream",
     "text": [
      "epoch 59: 100%|████████████████████████████████████████████████████████████████████| 1890/1890 [00:15<00:00, 120.56it/s]\n",
      "100%|████████████████████████████████████████████████████████████████████████████████| 811/811 [00:05<00:00, 136.84it/s]\n"
     ]
    },
    {
     "name": "stdout",
     "output_type": "stream",
     "text": [
      "Epoch 60/100:\n",
      "  Training Loss: 0.0076\n",
      "  Validation Loss: 0.0125\n",
      "  Validation Accuracy: 99.75%\n"
     ]
    },
    {
     "name": "stderr",
     "output_type": "stream",
     "text": [
      "epoch 60: 100%|████████████████████████████████████████████████████████████████████| 1890/1890 [00:15<00:00, 120.42it/s]\n",
      "100%|████████████████████████████████████████████████████████████████████████████████| 811/811 [00:05<00:00, 136.96it/s]\n"
     ]
    },
    {
     "name": "stdout",
     "output_type": "stream",
     "text": [
      "Epoch 61/100:\n",
      "  Training Loss: 0.0073\n",
      "  Validation Loss: 0.0145\n",
      "  Validation Accuracy: 99.75%\n"
     ]
    },
    {
     "name": "stderr",
     "output_type": "stream",
     "text": [
      "epoch 61: 100%|████████████████████████████████████████████████████████████████████| 1890/1890 [00:15<00:00, 120.44it/s]\n",
      "100%|████████████████████████████████████████████████████████████████████████████████| 811/811 [00:05<00:00, 136.53it/s]\n"
     ]
    },
    {
     "name": "stdout",
     "output_type": "stream",
     "text": [
      "Epoch 62/100:\n",
      "  Training Loss: 0.0077\n",
      "  Validation Loss: 0.0166\n",
      "  Validation Accuracy: 99.61%\n"
     ]
    },
    {
     "name": "stderr",
     "output_type": "stream",
     "text": [
      "epoch 62: 100%|████████████████████████████████████████████████████████████████████| 1890/1890 [00:15<00:00, 120.03it/s]\n",
      "100%|████████████████████████████████████████████████████████████████████████████████| 811/811 [00:05<00:00, 136.69it/s]\n"
     ]
    },
    {
     "name": "stdout",
     "output_type": "stream",
     "text": [
      "Epoch 63/100:\n",
      "  Training Loss: 0.0074\n",
      "  Validation Loss: 0.0100\n",
      "  Validation Accuracy: 99.72%\n"
     ]
    },
    {
     "name": "stderr",
     "output_type": "stream",
     "text": [
      "epoch 63: 100%|████████████████████████████████████████████████████████████████████| 1890/1890 [00:15<00:00, 120.00it/s]\n",
      "100%|████████████████████████████████████████████████████████████████████████████████| 811/811 [00:05<00:00, 136.72it/s]\n"
     ]
    },
    {
     "name": "stdout",
     "output_type": "stream",
     "text": [
      "Epoch 64/100:\n",
      "  Training Loss: 0.0080\n",
      "  Validation Loss: 0.0097\n",
      "  Validation Accuracy: 99.72%\n"
     ]
    },
    {
     "name": "stderr",
     "output_type": "stream",
     "text": [
      "epoch 64: 100%|████████████████████████████████████████████████████████████████████| 1890/1890 [00:15<00:00, 120.28it/s]\n",
      "100%|████████████████████████████████████████████████████████████████████████████████| 811/811 [00:05<00:00, 137.25it/s]\n"
     ]
    },
    {
     "name": "stdout",
     "output_type": "stream",
     "text": [
      "Epoch 65/100:\n",
      "  Training Loss: 0.0068\n",
      "  Validation Loss: 0.0152\n",
      "  Validation Accuracy: 99.72%\n"
     ]
    },
    {
     "name": "stderr",
     "output_type": "stream",
     "text": [
      "epoch 65: 100%|████████████████████████████████████████████████████████████████████| 1890/1890 [00:15<00:00, 120.23it/s]\n",
      "100%|████████████████████████████████████████████████████████████████████████████████| 811/811 [00:05<00:00, 136.93it/s]\n"
     ]
    },
    {
     "name": "stdout",
     "output_type": "stream",
     "text": [
      "Epoch 66/100:\n",
      "  Training Loss: 0.0070\n",
      "  Validation Loss: 0.0100\n",
      "  Validation Accuracy: 99.79%\n"
     ]
    },
    {
     "name": "stderr",
     "output_type": "stream",
     "text": [
      "epoch 66: 100%|████████████████████████████████████████████████████████████████████| 1890/1890 [00:15<00:00, 120.15it/s]\n",
      "100%|████████████████████████████████████████████████████████████████████████████████| 811/811 [00:05<00:00, 136.82it/s]\n"
     ]
    },
    {
     "name": "stdout",
     "output_type": "stream",
     "text": [
      "Epoch 67/100:\n",
      "  Training Loss: 0.0067\n",
      "  Validation Loss: 0.0147\n",
      "  Validation Accuracy: 99.71%\n"
     ]
    },
    {
     "name": "stderr",
     "output_type": "stream",
     "text": [
      "epoch 67: 100%|████████████████████████████████████████████████████████████████████| 1890/1890 [00:15<00:00, 120.34it/s]\n",
      "100%|████████████████████████████████████████████████████████████████████████████████| 811/811 [00:05<00:00, 136.59it/s]\n"
     ]
    },
    {
     "name": "stdout",
     "output_type": "stream",
     "text": [
      "Epoch 68/100:\n",
      "  Training Loss: 0.0059\n",
      "  Validation Loss: 0.0200\n",
      "  Validation Accuracy: 99.59%\n"
     ]
    },
    {
     "name": "stderr",
     "output_type": "stream",
     "text": [
      "epoch 68: 100%|████████████████████████████████████████████████████████████████████| 1890/1890 [00:15<00:00, 120.07it/s]\n",
      "100%|████████████████████████████████████████████████████████████████████████████████| 811/811 [00:05<00:00, 136.42it/s]\n"
     ]
    },
    {
     "name": "stdout",
     "output_type": "stream",
     "text": [
      "Epoch 69/100:\n",
      "  Training Loss: 0.0069\n",
      "  Validation Loss: 0.0095\n",
      "  Validation Accuracy: 99.80%\n"
     ]
    },
    {
     "name": "stderr",
     "output_type": "stream",
     "text": [
      "epoch 69: 100%|████████████████████████████████████████████████████████████████████| 1890/1890 [00:15<00:00, 120.03it/s]\n",
      "100%|████████████████████████████████████████████████████████████████████████████████| 811/811 [00:05<00:00, 136.60it/s]\n"
     ]
    },
    {
     "name": "stdout",
     "output_type": "stream",
     "text": [
      "Epoch 70/100:\n",
      "  Training Loss: 0.0090\n",
      "  Validation Loss: 0.0170\n",
      "  Validation Accuracy: 99.67%\n"
     ]
    },
    {
     "name": "stderr",
     "output_type": "stream",
     "text": [
      "epoch 70: 100%|████████████████████████████████████████████████████████████████████| 1890/1890 [00:15<00:00, 120.29it/s]\n",
      "100%|████████████████████████████████████████████████████████████████████████████████| 811/811 [00:05<00:00, 136.56it/s]\n"
     ]
    },
    {
     "name": "stdout",
     "output_type": "stream",
     "text": [
      "Epoch 71/100:\n",
      "  Training Loss: 0.0054\n",
      "  Validation Loss: 0.0089\n",
      "  Validation Accuracy: 99.77%\n"
     ]
    },
    {
     "name": "stderr",
     "output_type": "stream",
     "text": [
      "epoch 71: 100%|████████████████████████████████████████████████████████████████████| 1890/1890 [00:15<00:00, 120.38it/s]\n",
      "100%|████████████████████████████████████████████████████████████████████████████████| 811/811 [00:05<00:00, 136.46it/s]\n"
     ]
    },
    {
     "name": "stdout",
     "output_type": "stream",
     "text": [
      "Epoch 72/100:\n",
      "  Training Loss: 0.0068\n",
      "  Validation Loss: 0.0096\n",
      "  Validation Accuracy: 99.78%\n"
     ]
    },
    {
     "name": "stderr",
     "output_type": "stream",
     "text": [
      "epoch 72: 100%|████████████████████████████████████████████████████████████████████| 1890/1890 [00:15<00:00, 120.24it/s]\n",
      "100%|████████████████████████████████████████████████████████████████████████████████| 811/811 [00:05<00:00, 136.49it/s]\n"
     ]
    },
    {
     "name": "stdout",
     "output_type": "stream",
     "text": [
      "Epoch 73/100:\n",
      "  Training Loss: 0.0069\n",
      "  Validation Loss: 0.0109\n",
      "  Validation Accuracy: 99.76%\n"
     ]
    },
    {
     "name": "stderr",
     "output_type": "stream",
     "text": [
      "epoch 73: 100%|████████████████████████████████████████████████████████████████████| 1890/1890 [00:15<00:00, 120.45it/s]\n",
      "100%|████████████████████████████████████████████████████████████████████████████████| 811/811 [00:05<00:00, 136.85it/s]\n"
     ]
    },
    {
     "name": "stdout",
     "output_type": "stream",
     "text": [
      "Epoch 74/100:\n",
      "  Training Loss: 0.0068\n",
      "  Validation Loss: 0.0123\n",
      "  Validation Accuracy: 99.77%\n"
     ]
    },
    {
     "name": "stderr",
     "output_type": "stream",
     "text": [
      "epoch 74: 100%|████████████████████████████████████████████████████████████████████| 1890/1890 [00:15<00:00, 120.33it/s]\n",
      "100%|████████████████████████████████████████████████████████████████████████████████| 811/811 [00:05<00:00, 136.84it/s]\n"
     ]
    },
    {
     "name": "stdout",
     "output_type": "stream",
     "text": [
      "Epoch 75/100:\n",
      "  Training Loss: 0.0060\n",
      "  Validation Loss: 0.0141\n",
      "  Validation Accuracy: 99.66%\n"
     ]
    },
    {
     "name": "stderr",
     "output_type": "stream",
     "text": [
      "epoch 75: 100%|████████████████████████████████████████████████████████████████████| 1890/1890 [00:15<00:00, 120.30it/s]\n",
      "100%|████████████████████████████████████████████████████████████████████████████████| 811/811 [00:05<00:00, 136.29it/s]\n"
     ]
    },
    {
     "name": "stdout",
     "output_type": "stream",
     "text": [
      "Epoch 76/100:\n",
      "  Training Loss: 0.0065\n",
      "  Validation Loss: 0.0073\n",
      "  Validation Accuracy: 99.78%\n"
     ]
    },
    {
     "name": "stderr",
     "output_type": "stream",
     "text": [
      "epoch 76: 100%|████████████████████████████████████████████████████████████████████| 1890/1890 [00:15<00:00, 120.39it/s]\n",
      "100%|████████████████████████████████████████████████████████████████████████████████| 811/811 [00:05<00:00, 136.46it/s]\n"
     ]
    },
    {
     "name": "stdout",
     "output_type": "stream",
     "text": [
      "Epoch 77/100:\n",
      "  Training Loss: 0.0057\n",
      "  Validation Loss: 0.0108\n",
      "  Validation Accuracy: 99.76%\n"
     ]
    },
    {
     "name": "stderr",
     "output_type": "stream",
     "text": [
      "epoch 77: 100%|████████████████████████████████████████████████████████████████████| 1890/1890 [00:15<00:00, 120.50it/s]\n",
      "100%|████████████████████████████████████████████████████████████████████████████████| 811/811 [00:05<00:00, 136.73it/s]\n"
     ]
    },
    {
     "name": "stdout",
     "output_type": "stream",
     "text": [
      "Epoch 78/100:\n",
      "  Training Loss: 0.0079\n",
      "  Validation Loss: 0.0123\n",
      "  Validation Accuracy: 99.74%\n"
     ]
    },
    {
     "name": "stderr",
     "output_type": "stream",
     "text": [
      "epoch 78: 100%|████████████████████████████████████████████████████████████████████| 1890/1890 [00:15<00:00, 120.50it/s]\n",
      "100%|████████████████████████████████████████████████████████████████████████████████| 811/811 [00:05<00:00, 137.23it/s]\n"
     ]
    },
    {
     "name": "stdout",
     "output_type": "stream",
     "text": [
      "Epoch 79/100:\n",
      "  Training Loss: 0.0056\n",
      "  Validation Loss: 0.0118\n",
      "  Validation Accuracy: 99.78%\n"
     ]
    },
    {
     "name": "stderr",
     "output_type": "stream",
     "text": [
      "epoch 79: 100%|████████████████████████████████████████████████████████████████████| 1890/1890 [00:15<00:00, 120.51it/s]\n",
      "100%|████████████████████████████████████████████████████████████████████████████████| 811/811 [00:05<00:00, 137.01it/s]\n"
     ]
    },
    {
     "name": "stdout",
     "output_type": "stream",
     "text": [
      "Epoch 80/100:\n",
      "  Training Loss: 0.0064\n",
      "  Validation Loss: 0.0087\n",
      "  Validation Accuracy: 99.81%\n"
     ]
    },
    {
     "name": "stderr",
     "output_type": "stream",
     "text": [
      "epoch 80: 100%|████████████████████████████████████████████████████████████████████| 1890/1890 [00:15<00:00, 120.24it/s]\n",
      "100%|████████████████████████████████████████████████████████████████████████████████| 811/811 [00:05<00:00, 136.91it/s]\n"
     ]
    },
    {
     "name": "stdout",
     "output_type": "stream",
     "text": [
      "Epoch 81/100:\n",
      "  Training Loss: 0.0064\n",
      "  Validation Loss: 0.0195\n",
      "  Validation Accuracy: 99.65%\n"
     ]
    },
    {
     "name": "stderr",
     "output_type": "stream",
     "text": [
      "epoch 81: 100%|████████████████████████████████████████████████████████████████████| 1890/1890 [00:15<00:00, 120.36it/s]\n",
      "100%|████████████████████████████████████████████████████████████████████████████████| 811/811 [00:05<00:00, 136.97it/s]\n"
     ]
    },
    {
     "name": "stdout",
     "output_type": "stream",
     "text": [
      "Epoch 82/100:\n",
      "  Training Loss: 0.0061\n",
      "  Validation Loss: 0.0129\n",
      "  Validation Accuracy: 99.77%\n"
     ]
    },
    {
     "name": "stderr",
     "output_type": "stream",
     "text": [
      "epoch 82: 100%|████████████████████████████████████████████████████████████████████| 1890/1890 [00:15<00:00, 120.30it/s]\n",
      "100%|████████████████████████████████████████████████████████████████████████████████| 811/811 [00:05<00:00, 136.49it/s]\n"
     ]
    },
    {
     "name": "stdout",
     "output_type": "stream",
     "text": [
      "Epoch 83/100:\n",
      "  Training Loss: 0.0081\n",
      "  Validation Loss: 0.0104\n",
      "  Validation Accuracy: 99.74%\n"
     ]
    },
    {
     "name": "stderr",
     "output_type": "stream",
     "text": [
      "epoch 83: 100%|████████████████████████████████████████████████████████████████████| 1890/1890 [00:15<00:00, 120.16it/s]\n",
      "100%|████████████████████████████████████████████████████████████████████████████████| 811/811 [00:05<00:00, 136.70it/s]\n"
     ]
    },
    {
     "name": "stdout",
     "output_type": "stream",
     "text": [
      "Epoch 84/100:\n",
      "  Training Loss: 0.0062\n",
      "  Validation Loss: 0.0146\n",
      "  Validation Accuracy: 99.79%\n"
     ]
    },
    {
     "name": "stderr",
     "output_type": "stream",
     "text": [
      "epoch 84: 100%|████████████████████████████████████████████████████████████████████| 1890/1890 [00:15<00:00, 120.09it/s]\n",
      "100%|████████████████████████████████████████████████████████████████████████████████| 811/811 [00:05<00:00, 136.42it/s]\n"
     ]
    },
    {
     "name": "stdout",
     "output_type": "stream",
     "text": [
      "Epoch 85/100:\n",
      "  Training Loss: 0.0075\n",
      "  Validation Loss: 0.0199\n",
      "  Validation Accuracy: 99.72%\n"
     ]
    },
    {
     "name": "stderr",
     "output_type": "stream",
     "text": [
      "epoch 85: 100%|████████████████████████████████████████████████████████████████████| 1890/1890 [00:15<00:00, 120.57it/s]\n",
      "100%|████████████████████████████████████████████████████████████████████████████████| 811/811 [00:05<00:00, 136.68it/s]\n"
     ]
    },
    {
     "name": "stdout",
     "output_type": "stream",
     "text": [
      "Epoch 86/100:\n",
      "  Training Loss: 0.0078\n",
      "  Validation Loss: 0.0123\n",
      "  Validation Accuracy: 99.76%\n"
     ]
    },
    {
     "name": "stderr",
     "output_type": "stream",
     "text": [
      "epoch 86: 100%|████████████████████████████████████████████████████████████████████| 1890/1890 [00:15<00:00, 120.26it/s]\n",
      "100%|████████████████████████████████████████████████████████████████████████████████| 811/811 [00:05<00:00, 136.61it/s]\n"
     ]
    },
    {
     "name": "stdout",
     "output_type": "stream",
     "text": [
      "Epoch 87/100:\n",
      "  Training Loss: 0.0059\n",
      "  Validation Loss: 0.0113\n",
      "  Validation Accuracy: 99.72%\n"
     ]
    },
    {
     "name": "stderr",
     "output_type": "stream",
     "text": [
      "epoch 87: 100%|████████████████████████████████████████████████████████████████████| 1890/1890 [00:15<00:00, 120.35it/s]\n",
      "100%|████████████████████████████████████████████████████████████████████████████████| 811/811 [00:05<00:00, 137.15it/s]\n"
     ]
    },
    {
     "name": "stdout",
     "output_type": "stream",
     "text": [
      "Epoch 88/100:\n",
      "  Training Loss: 0.0068\n",
      "  Validation Loss: 0.0077\n",
      "  Validation Accuracy: 99.78%\n"
     ]
    },
    {
     "name": "stderr",
     "output_type": "stream",
     "text": [
      "epoch 88: 100%|████████████████████████████████████████████████████████████████████| 1890/1890 [00:15<00:00, 120.29it/s]\n",
      "100%|████████████████████████████████████████████████████████████████████████████████| 811/811 [00:05<00:00, 136.74it/s]\n"
     ]
    },
    {
     "name": "stdout",
     "output_type": "stream",
     "text": [
      "Epoch 89/100:\n",
      "  Training Loss: 0.0067\n",
      "  Validation Loss: 0.0128\n",
      "  Validation Accuracy: 99.76%\n"
     ]
    },
    {
     "name": "stderr",
     "output_type": "stream",
     "text": [
      "epoch 89: 100%|████████████████████████████████████████████████████████████████████| 1890/1890 [00:15<00:00, 120.10it/s]\n",
      "100%|████████████████████████████████████████████████████████████████████████████████| 811/811 [00:05<00:00, 136.52it/s]\n"
     ]
    },
    {
     "name": "stdout",
     "output_type": "stream",
     "text": [
      "Epoch 90/100:\n",
      "  Training Loss: 0.0064\n",
      "  Validation Loss: 0.0091\n",
      "  Validation Accuracy: 99.83%\n"
     ]
    },
    {
     "name": "stderr",
     "output_type": "stream",
     "text": [
      "epoch 90: 100%|████████████████████████████████████████████████████████████████████| 1890/1890 [00:15<00:00, 120.57it/s]\n",
      "100%|████████████████████████████████████████████████████████████████████████████████| 811/811 [00:05<00:00, 137.05it/s]\n"
     ]
    },
    {
     "name": "stdout",
     "output_type": "stream",
     "text": [
      "Epoch 91/100:\n",
      "  Training Loss: 0.0084\n",
      "  Validation Loss: 0.0159\n",
      "  Validation Accuracy: 99.47%\n"
     ]
    },
    {
     "name": "stderr",
     "output_type": "stream",
     "text": [
      "epoch 91: 100%|████████████████████████████████████████████████████████████████████| 1890/1890 [00:15<00:00, 120.51it/s]\n",
      "100%|████████████████████████████████████████████████████████████████████████████████| 811/811 [00:05<00:00, 136.99it/s]\n"
     ]
    },
    {
     "name": "stdout",
     "output_type": "stream",
     "text": [
      "Epoch 92/100:\n",
      "  Training Loss: 0.0089\n",
      "  Validation Loss: 0.0123\n",
      "  Validation Accuracy: 99.76%\n"
     ]
    },
    {
     "name": "stderr",
     "output_type": "stream",
     "text": [
      "epoch 92: 100%|████████████████████████████████████████████████████████████████████| 1890/1890 [00:15<00:00, 120.56it/s]\n",
      "100%|████████████████████████████████████████████████████████████████████████████████| 811/811 [00:05<00:00, 136.74it/s]\n"
     ]
    },
    {
     "name": "stdout",
     "output_type": "stream",
     "text": [
      "Epoch 93/100:\n",
      "  Training Loss: 0.0081\n",
      "  Validation Loss: 0.0120\n",
      "  Validation Accuracy: 99.76%\n"
     ]
    },
    {
     "name": "stderr",
     "output_type": "stream",
     "text": [
      "epoch 93: 100%|████████████████████████████████████████████████████████████████████| 1890/1890 [00:15<00:00, 120.41it/s]\n",
      "100%|████████████████████████████████████████████████████████████████████████████████| 811/811 [00:05<00:00, 136.48it/s]\n"
     ]
    },
    {
     "name": "stdout",
     "output_type": "stream",
     "text": [
      "Epoch 94/100:\n",
      "  Training Loss: 0.0058\n",
      "  Validation Loss: 0.0075\n",
      "  Validation Accuracy: 99.77%\n"
     ]
    },
    {
     "name": "stderr",
     "output_type": "stream",
     "text": [
      "epoch 94: 100%|████████████████████████████████████████████████████████████████████| 1890/1890 [00:15<00:00, 120.47it/s]\n",
      "100%|████████████████████████████████████████████████████████████████████████████████| 811/811 [00:05<00:00, 137.12it/s]\n"
     ]
    },
    {
     "name": "stdout",
     "output_type": "stream",
     "text": [
      "Epoch 95/100:\n",
      "  Training Loss: 0.0068\n",
      "  Validation Loss: 0.0140\n",
      "  Validation Accuracy: 99.77%\n"
     ]
    },
    {
     "name": "stderr",
     "output_type": "stream",
     "text": [
      "epoch 95: 100%|████████████████████████████████████████████████████████████████████| 1890/1890 [00:15<00:00, 120.19it/s]\n",
      "100%|████████████████████████████████████████████████████████████████████████████████| 811/811 [00:05<00:00, 136.65it/s]\n"
     ]
    },
    {
     "name": "stdout",
     "output_type": "stream",
     "text": [
      "Epoch 96/100:\n",
      "  Training Loss: 0.0057\n",
      "  Validation Loss: 0.0260\n",
      "  Validation Accuracy: 99.35%\n"
     ]
    },
    {
     "name": "stderr",
     "output_type": "stream",
     "text": [
      "epoch 96: 100%|████████████████████████████████████████████████████████████████████| 1890/1890 [00:15<00:00, 120.30it/s]\n",
      "100%|████████████████████████████████████████████████████████████████████████████████| 811/811 [00:05<00:00, 136.86it/s]\n"
     ]
    },
    {
     "name": "stdout",
     "output_type": "stream",
     "text": [
      "Epoch 97/100:\n",
      "  Training Loss: 0.0063\n",
      "  Validation Loss: 0.0087\n",
      "  Validation Accuracy: 99.82%\n"
     ]
    },
    {
     "name": "stderr",
     "output_type": "stream",
     "text": [
      "epoch 97: 100%|████████████████████████████████████████████████████████████████████| 1890/1890 [00:15<00:00, 120.02it/s]\n",
      "100%|████████████████████████████████████████████████████████████████████████████████| 811/811 [00:05<00:00, 136.80it/s]\n"
     ]
    },
    {
     "name": "stdout",
     "output_type": "stream",
     "text": [
      "Epoch 98/100:\n",
      "  Training Loss: 0.0042\n",
      "  Validation Loss: 0.0089\n",
      "  Validation Accuracy: 99.82%\n"
     ]
    },
    {
     "name": "stderr",
     "output_type": "stream",
     "text": [
      "epoch 98: 100%|████████████████████████████████████████████████████████████████████| 1890/1890 [00:15<00:00, 120.29it/s]\n",
      "100%|████████████████████████████████████████████████████████████████████████████████| 811/811 [00:05<00:00, 136.15it/s]\n"
     ]
    },
    {
     "name": "stdout",
     "output_type": "stream",
     "text": [
      "Epoch 99/100:\n",
      "  Training Loss: 0.0059\n",
      "  Validation Loss: 0.0112\n",
      "  Validation Accuracy: 99.65%\n"
     ]
    },
    {
     "name": "stderr",
     "output_type": "stream",
     "text": [
      "epoch 99: 100%|████████████████████████████████████████████████████████████████████| 1890/1890 [00:15<00:00, 120.21it/s]\n",
      "100%|████████████████████████████████████████████████████████████████████████████████| 811/811 [00:05<00:00, 137.00it/s]"
     ]
    },
    {
     "name": "stdout",
     "output_type": "stream",
     "text": [
      "Epoch 100/100:\n",
      "  Training Loss: 0.0062\n",
      "  Validation Loss: 0.0091\n",
      "  Validation Accuracy: 99.72%\n"
     ]
    },
    {
     "name": "stderr",
     "output_type": "stream",
     "text": [
      "\n"
     ]
    },
    {
     "data": {
      "text/html": [
       "Waiting for W&B process to finish... <strong style=\"color:green\">(success).</strong>"
      ],
      "text/plain": [
       "<IPython.core.display.HTML object>"
      ]
     },
     "metadata": {},
     "output_type": "display_data"
    },
    {
     "name": "stderr",
     "output_type": "stream",
     "text": [
      "wandb: WARNING Source type is set to 'repo' but some required information is missing from the environment. A job will not be created from this run. See https://docs.wandb.ai/guides/launch/create-job\n"
     ]
    },
    {
     "data": {
      "text/html": [
       " View run <strong style=\"color:#cdcd00\">CenterCrop (50 -> 32), Conv3, Do1(0.15)</strong> at: <a href='https://wandb.ai/asseertive/23-dcc/runs/y11cvxz7' target=\"_blank\">https://wandb.ai/asseertive/23-dcc/runs/y11cvxz7</a><br/>Synced 5 W&B file(s), 0 media file(s), 0 artifact file(s) and 0 other file(s)"
      ],
      "text/plain": [
       "<IPython.core.display.HTML object>"
      ]
     },
     "metadata": {},
     "output_type": "display_data"
    },
    {
     "data": {
      "text/html": [
       "Find logs at: <code>./wandb/run-20231103_015056-y11cvxz7/logs</code>"
      ],
      "text/plain": [
       "<IPython.core.display.HTML object>"
      ]
     },
     "metadata": {},
     "output_type": "display_data"
    }
   ],
   "source": [
    "train_losses = []\n",
    "valid_losses = []\n",
    "\n",
    "epochs = 100\n",
    "\n",
    "wandb.config.update({\n",
    "  \"learning_rate\": learning_rate,\n",
    "  \"epochs\": epochs,\n",
    "  \"batch_size\": batch_size\n",
    "})\n",
    "\n",
    "for epoch in range(epochs):\n",
    "    wandb.config.update({\n",
    "        \"epoch\": epoch\n",
    "    })\n",
    "    \n",
    "    train_loss = train(model, train_loader, epoch)\n",
    "    valid_loss, valid_accuracy = validate(model, valid_loader)\n",
    "\n",
    "    train_losses.append(train_loss)\n",
    "    valid_losses.append(valid_loss)\n",
    "\n",
    "    wandb.log({\"train\": {\"loss\": train_loss}, \"val\": {\"loss\": valid_loss, \"acc\": valid_accuracy}}, step=epoch)\n",
    "\n",
    "    print(f\"Epoch {epoch + 1}/{epochs}:\")\n",
    "    print(f\"  Training Loss: {train_loss:.4f}\")\n",
    "    print(f\"  Validation Loss: {valid_loss:.4f}\")\n",
    "    print(f\"  Validation Accuracy: {valid_accuracy:.2f}%\")\n",
    "\n",
    "now = datetime.now()\n",
    "\n",
    "if os.path.exists('./weights') == False:\n",
    "    os.mkdir('./weights')\n",
    "\n",
    "torch.save(model.state_dict(), f'./weights/{now.strftime(\"%Y-%m-%d_%H:%M:%S\")}.pth')\n",
    "wandb.finish()"
   ]
  },
  {
   "cell_type": "code",
   "execution_count": 14,
   "id": "634d542d-e39d-47c5-b0d1-f63077caead2",
   "metadata": {},
   "outputs": [
    {
     "data": {
      "image/png": "[encoded data removed]",
      "text/plain": [
       "<Figure size 640x480 with 1 Axes>"
      ]
     },
     "metadata": {},
     "output_type": "display_data"
    }
   ],
   "source": [
    "plt.plot(range(1, epochs + 1), train_losses, label='Train Loss')\n",
    "plt.plot(range(1, epochs + 1), valid_losses, label='Valid Loss')\n",
    "plt.xlabel('Epochs')\n",
    "plt.ylabel('Loss')\n",
    "plt.legend()\n",
    "plt.show()"
   ]
  },
  {
   "cell_type": "code",
   "execution_count": 15,
   "id": "38e42b1a-ecce-459a-9980-56e98d663a9d",
   "metadata": {},
   "outputs": [],
   "source": [
    "# 저장된 테스트 넘파이 배열 불러오기\n",
    "test_images = np.load('test_images.npy')\n",
    "test_labels = np.load('test_labels.npy')\n",
    "\n",
    "# 레이블 수정: 1번 레이블을 0(마스크 미착용), 2/3번 레이블을 1(마스크 착용)로 변경\n",
    "test_labels[test_labels == 1] = 0\n",
    "test_labels[test_labels == 2] = 1\n",
    "test_labels[test_labels == 3] = 1\n",
    "\n",
    "test_images = torch.from_numpy(test_images).permute(0, 3, 1, 2)\n",
    "test_labels = torch.from_numpy(test_labels)\n",
    "\n",
    "test_dataset = TensorDataset(test_images, test_labels)\n",
    "\n",
    "batch_size = 1\n",
    "test_loader = DataLoader(test_dataset, batch_size=batch_size, shuffle=True)"
   ]
  },
  {
   "cell_type": "code",
   "execution_count": 18,
   "id": "f840b163-d69c-41b8-923b-6851563f4a2c",
   "metadata": {},
   "outputs": [
    {
     "name": "stdout",
     "output_type": "stream",
     "text": [
      "tensor([[0.7311]])\n",
      "tensor([[0.7311]])\n",
      "tensor([[0.7311]])\n",
      "tensor([[0.5000]])\n",
      "tensor([[0.5000]])\n",
      "tensor([[0.5000]])\n",
      "tensor([[0.5000]])\n",
      "tensor([[0.7311]])\n",
      "tensor([[0.7311]])\n",
      "tensor([[0.7311]])\n"
     ]
    },
    {
     "data": {
      "image/png": "[encoded data removed]",
      "text/plain": [
       "<Figure size 1200x600 with 10 Axes>"
      ]
     },
     "metadata": {},
     "output_type": "display_data"
    }
   ],
   "source": [
    "# 추론 시각화\n",
    "# 데이터셋을 이터레이터로 변환\n",
    "data_iterator = iter(test_loader)\n",
    "\n",
    "model.to('cpu')\n",
    "\n",
    "classes = ['no mask', 'mask']\n",
    "\n",
    "plt.figure(figsize=(12, 6))\n",
    "for i in range(10):\n",
    "    try:\n",
    "        image, label = next(data_iterator)\n",
    "        image = transforms.Resize((32, 32))(image)\n",
    "\n",
    "        with torch.no_grad():\n",
    "            outputs = model(image.to(torch.float))\n",
    "\n",
    "        probabilities = torch.sigmoid(outputs)\n",
    "\n",
    "        print(probabilities)\n",
    "        predicted_class = torch.round(probabilities).squeeze().int().item()\n",
    "        \n",
    "        plt.subplot(2, 5, i + 1)\n",
    "        plt.imshow(image[0].permute(1, 2, 0) / 255.0)\n",
    "        plt.title(f'Predicted: {classes[predicted_class]}\\nActual: {classes[int(label.item())]}')\n",
    "        plt.axis('off')\n",
    "    except StopIteration:\n",
    "        break\n",
    "\n",
    "plt.tight_layout()\n",
    "plt.show()"
   ]
  },
  {
   "cell_type": "markdown",
   "id": "ba27ac2b-09c1-43f3-a8a5-92e2e1a86e52",
   "metadata": {},
   "source": [
    "### 3-1. 마스크 착용여부 이진 분류를 수행하여 Test 데이터의 F1 Score를 제시하시오.\n",
    "\n",
    "(이 때 턱스크는 착용으로 간주)"
   ]
  },
  {
   "cell_type": "code",
   "execution_count": 19,
   "id": "c17b9cfb-5331-4912-951f-aacfc246846b",
   "metadata": {},
   "outputs": [
    {
     "name": "stderr",
     "output_type": "stream",
     "text": [
      "/usr/local/lib/python3.10/dist-packages/torchvision/transforms/functional.py:1603: UserWarning: The default value of the antialias parameter of all the resizing transforms (Resize(), RandomResizedCrop(), etc.) will change from None to True in v0.17, in order to be consistent across the PIL and Tensor backends. To suppress this warning, directly pass antialias=True (recommended, future default), antialias=None (current default, which means False for Tensors and True for PIL), or antialias=False (only works on Tensors - PIL will still use antialiasing). This also applies if you are using the inference transforms from the models weights: update the call to weights.transforms(antialias=True).\n",
      "  warnings.warn(\n"
     ]
    },
    {
     "name": "stdout",
     "output_type": "stream",
     "text": [
      "              precision    recall  f1-score   support\n",
      "\n",
      "     no mask       0.89      0.95      0.92      5400\n",
      "        mask       0.97      0.94      0.96     10800\n",
      "\n",
      "    accuracy                           0.94     16200\n",
      "   macro avg       0.93      0.95      0.94     16200\n",
      "weighted avg       0.95      0.94      0.94     16200\n",
      "\n",
      "F1 Score: 0.9570\n"
     ]
    }
   ],
   "source": [
    "from sklearn.metrics import classification_report, f1_score\n",
    "\n",
    "model = CustomClassifier()\n",
    "model.load_state_dict(torch.load(f'./weights/{now.strftime(\"%Y-%m-%d_%H:%M:%S\")}.pth'))\n",
    "\n",
    "def get_predictions(model, data_loader):\n",
    "    model.eval()\n",
    "    all_predictions = []\n",
    "    all_labels = []\n",
    "\n",
    "    with torch.no_grad():\n",
    "        for inputs, labels in data_loader:\n",
    "            inputs = transforms.Resize((32, 32))(inputs)\n",
    "            outputs = model(inputs.to(torch.float))\n",
    "            predicted_labels = (torch.sigmoid(outputs) > 0.5).int()\n",
    "            all_predictions.extend(predicted_labels.cpu().numpy())\n",
    "            all_labels.extend(labels.cpu().numpy())\n",
    "\n",
    "    return all_predictions, all_labels\n",
    "\n",
    "predictions, labels = get_predictions(model, test_loader)\n",
    "report = classification_report(labels, predictions, target_names=classes)\n",
    "print(report)\n",
    "print(f\"F1 Score: {f1_score(labels, predictions):.4f}\")"
   ]
  },
  {
   "cell_type": "markdown",
   "id": "fbf6063f",
   "metadata": {},
   "source": [
    "    Output:\n",
    "    /usr/local/lib/python3.10/dist-packages/torchvision/transforms/functional.py:1603: UserWarning: The default value of the antialias parameter of all the resizing transforms (Resize(), RandomResizedCrop(), etc.) will change from None to True in v0.17, in order to be consistent across the PIL and Tensor backends. To suppress this warning, directly pass antialias=True (recommended, future default), antialias=None (current default, which means False for Tensors and True for PIL), or antialias=False (only works on Tensors - PIL will still use antialiasing). This also applies if you are using the inference transforms from the models weights: update the call to weights.transforms(antialias=True).\n",
    "      warnings.warn(\n",
    "\n",
    "                  precision    recall  f1-score   support\n",
    "\n",
    "        no mask       0.89      0.95      0.92      5400\n",
    "           mask       0.97      0.94      0.96     10800\n",
    "\n",
    "    accuracy                              0.94     16200\n",
    "    macro avg         0.93      0.95      0.94     16200\n",
    "    weighted avg      0.95      0.94      0.94     16200\n",
    "\n",
    "    F1 Score: 0.9570\n"
   ]
  },
  {
   "cell_type": "markdown",
   "id": "1e6d6601-3a5d-442c-b369-4487e587121e",
   "metadata": {},
   "source": [
    "### 3-2. 클래스 불균형 문제를 해결하고 Accuracy와 Precision, Recall, F1 Score를 계산해본 뒤 3-1.과 비교하세요."
   ]
  },
  {
   "cell_type": "markdown",
   "id": "f19b2b7e-1bc5-4261-bb26-de855f055c91",
   "metadata": {},
   "source": [
    "    클래스 불균형 해결 전:\n",
    "    Accuracy: 0.9183\n",
    "    Precision: 0.9787\n",
    "    Recall: 0.8970\n",
    "    F1 Score: 0.9361\n",
    "\n",
    "    클래스 불균형 해결 후:\n",
    "    Accuracy: 0.9421\n",
    "    Precision: 0.9810\n",
    "    Recall: 0.9312\n",
    "    F1 Score: 0.9554"
   ]
  },
  {
   "cell_type": "markdown",
   "id": "a884bf76-dca4-4b3b-b8f3-45b8bb17aabb",
   "metadata": {},
   "source": [
    "### 3-3. 모형의 인식 성능을 올리는 작업을 수행하고 작업 수행과정을 설명하시오. 어떤 수행을 했고, 정확도는 어떻게 변했는가? 왜 그런 결과가 나왔는가?"
   ]
  },
  {
   "cell_type": "markdown",
   "id": "a835510b-9119-4ad1-8696-ada24a3f6d06",
   "metadata": {},
   "source": [
    "1. 하이퍼파라미터 조정\n",
    "    - 이동 평균을 사용하여 학습률을 동적으로 조정할 수 있도록 Adam 학습 알고리즘(옵티마이저)를 사용했습니다.\n",
    "    - 가중치가 업데이트되는 주기인 Learning Rate를 조절하여 파라미터가 일반화되게 할 수 있도록 했습니다.\n",
    "    - 연산 부하를 줄이기 위해 이미지 배치 사이즈를 조절하여 Loss Function을 효율적으로 최적화했습니다.\n",
    "\n",
    "<br />\n",
    "\n",
    "2. 모델 아키텍처 개선\n",
    "    - 레이어의 구조와 크기, 컨볼루션 필터 수, 히든 레이어 유닛 수 등을 조정하여 정교한 모델을 제작했습니다."
   ]
  },
  {
   "cell_type": "markdown",
   "id": "0375c26b",
   "metadata": {},
   "source": [
    "### 3-4. 오류가 나온 이미지에 대해 왜 오류가 나왔는지 그동안 미션 수행에서 얻은 경험과 지식을 통해 설명하시오."
   ]
  },
  {
   "attachments": {
    "image.png": {
     "image/png": "[encoded data removed]"
    }
   },
   "cell_type": "markdown",
   "id": "1625466f-e893-4050-9e57-35c240ef18c9",
   "metadata": {},
   "source": [
    "![image.png](attachment:image.png)\n",
    "\n",
    "사람의 눈으로 봐도 구분하기 힘들었던 예시입니다.\n",
    "\n",
    "마스크와 피부 색이 비슷하여 모델도 특징점을 찾아낵 힘들었던 것 같다고 생각합니다.\n",
    "\n",
    "이러한 부분을 조금이라도 개선하기 위하여 모델이 얼굴에서만 특징점을 찾아내도록 이미지의 중앙을 확대하는 CenterCrop을 진행했습니다."
   ]
  }
 ],
 "metadata": {
  "kernelspec": {
   "display_name": "Python 3 (ipykernel)",
   "language": "python",
   "name": "python3"
  },
  "language_info": {
   "codemirror_mode": {
    "name": "ipython",
    "version": 3
   },
   "file_extension": ".py",
   "mimetype": "text/x-python",
   "name": "python",
   "nbconvert_exporter": "python",
   "pygments_lexer": "ipython3",
   "version": "3.10.12"
  }
 },
 "nbformat": 4,
 "nbformat_minor": 5
}
